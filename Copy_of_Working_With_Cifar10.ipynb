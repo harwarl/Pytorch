{
  "nbformat": 4,
  "nbformat_minor": 0,
  "metadata": {
    "colab": {
      "name": "Copy of Working With Cifar10.ipynb",
      "provenance": [],
      "collapsed_sections": [],
      "authorship_tag": "ABX9TyNuau0TmHOCgmfREGD8jkBg",
      "include_colab_link": true
    },
    "kernelspec": {
      "name": "python3",
      "display_name": "Python 3"
    },
    "widgets": {
      "application/vnd.jupyter.widget-state+json": {
        "6fa5a4f176cf444ea8e83a80e478bcf2": {
          "model_module": "@jupyter-widgets/controls",
          "model_name": "HBoxModel",
          "state": {
            "_view_name": "HBoxView",
            "_dom_classes": [],
            "_model_name": "HBoxModel",
            "_view_module": "@jupyter-widgets/controls",
            "_model_module_version": "1.5.0",
            "_view_count": null,
            "_view_module_version": "1.5.0",
            "box_style": "",
            "layout": "IPY_MODEL_b0dadc5ef6484d89aadd2b504fddb1c9",
            "_model_module": "@jupyter-widgets/controls",
            "children": [
              "IPY_MODEL_1f59d84c95b24ba9898bcc27afd8be04",
              "IPY_MODEL_df6d3894b72241e2a6107d859ac2294c"
            ]
          }
        },
        "b0dadc5ef6484d89aadd2b504fddb1c9": {
          "model_module": "@jupyter-widgets/base",
          "model_name": "LayoutModel",
          "state": {
            "_view_name": "LayoutView",
            "grid_template_rows": null,
            "right": null,
            "justify_content": null,
            "_view_module": "@jupyter-widgets/base",
            "overflow": null,
            "_model_module_version": "1.2.0",
            "_view_count": null,
            "flex_flow": null,
            "width": null,
            "min_width": null,
            "border": null,
            "align_items": null,
            "bottom": null,
            "_model_module": "@jupyter-widgets/base",
            "top": null,
            "grid_column": null,
            "overflow_y": null,
            "overflow_x": null,
            "grid_auto_flow": null,
            "grid_area": null,
            "grid_template_columns": null,
            "flex": null,
            "_model_name": "LayoutModel",
            "justify_items": null,
            "grid_row": null,
            "max_height": null,
            "align_content": null,
            "visibility": null,
            "align_self": null,
            "height": null,
            "min_height": null,
            "padding": null,
            "grid_auto_rows": null,
            "grid_gap": null,
            "max_width": null,
            "order": null,
            "_view_module_version": "1.2.0",
            "grid_template_areas": null,
            "object_position": null,
            "object_fit": null,
            "grid_auto_columns": null,
            "margin": null,
            "display": null,
            "left": null
          }
        },
        "1f59d84c95b24ba9898bcc27afd8be04": {
          "model_module": "@jupyter-widgets/controls",
          "model_name": "FloatProgressModel",
          "state": {
            "_view_name": "ProgressView",
            "style": "IPY_MODEL_d016c63152f14e4a9821075b1c25d6f5",
            "_dom_classes": [],
            "description": "",
            "_model_name": "FloatProgressModel",
            "bar_style": "info",
            "max": 1,
            "_view_module": "@jupyter-widgets/controls",
            "_model_module_version": "1.5.0",
            "value": 1,
            "_view_count": null,
            "_view_module_version": "1.5.0",
            "orientation": "horizontal",
            "min": 0,
            "description_tooltip": null,
            "_model_module": "@jupyter-widgets/controls",
            "layout": "IPY_MODEL_de90644064d2422eb525731755a2d24c"
          }
        },
        "df6d3894b72241e2a6107d859ac2294c": {
          "model_module": "@jupyter-widgets/controls",
          "model_name": "HTMLModel",
          "state": {
            "_view_name": "HTMLView",
            "style": "IPY_MODEL_e84a68331e0241ac80f9b299f5558873",
            "_dom_classes": [],
            "description": "",
            "_model_name": "HTMLModel",
            "placeholder": "​",
            "_view_module": "@jupyter-widgets/controls",
            "_model_module_version": "1.5.0",
            "value": " 170500096/? [00:30&lt;00:00, 15496852.63it/s]",
            "_view_count": null,
            "_view_module_version": "1.5.0",
            "description_tooltip": null,
            "_model_module": "@jupyter-widgets/controls",
            "layout": "IPY_MODEL_88d9cfdc703744b091ca57724c22151c"
          }
        },
        "d016c63152f14e4a9821075b1c25d6f5": {
          "model_module": "@jupyter-widgets/controls",
          "model_name": "ProgressStyleModel",
          "state": {
            "_view_name": "StyleView",
            "_model_name": "ProgressStyleModel",
            "description_width": "initial",
            "_view_module": "@jupyter-widgets/base",
            "_model_module_version": "1.5.0",
            "_view_count": null,
            "_view_module_version": "1.2.0",
            "bar_color": null,
            "_model_module": "@jupyter-widgets/controls"
          }
        },
        "de90644064d2422eb525731755a2d24c": {
          "model_module": "@jupyter-widgets/base",
          "model_name": "LayoutModel",
          "state": {
            "_view_name": "LayoutView",
            "grid_template_rows": null,
            "right": null,
            "justify_content": null,
            "_view_module": "@jupyter-widgets/base",
            "overflow": null,
            "_model_module_version": "1.2.0",
            "_view_count": null,
            "flex_flow": null,
            "width": null,
            "min_width": null,
            "border": null,
            "align_items": null,
            "bottom": null,
            "_model_module": "@jupyter-widgets/base",
            "top": null,
            "grid_column": null,
            "overflow_y": null,
            "overflow_x": null,
            "grid_auto_flow": null,
            "grid_area": null,
            "grid_template_columns": null,
            "flex": null,
            "_model_name": "LayoutModel",
            "justify_items": null,
            "grid_row": null,
            "max_height": null,
            "align_content": null,
            "visibility": null,
            "align_self": null,
            "height": null,
            "min_height": null,
            "padding": null,
            "grid_auto_rows": null,
            "grid_gap": null,
            "max_width": null,
            "order": null,
            "_view_module_version": "1.2.0",
            "grid_template_areas": null,
            "object_position": null,
            "object_fit": null,
            "grid_auto_columns": null,
            "margin": null,
            "display": null,
            "left": null
          }
        },
        "e84a68331e0241ac80f9b299f5558873": {
          "model_module": "@jupyter-widgets/controls",
          "model_name": "DescriptionStyleModel",
          "state": {
            "_view_name": "StyleView",
            "_model_name": "DescriptionStyleModel",
            "description_width": "",
            "_view_module": "@jupyter-widgets/base",
            "_model_module_version": "1.5.0",
            "_view_count": null,
            "_view_module_version": "1.2.0",
            "_model_module": "@jupyter-widgets/controls"
          }
        },
        "88d9cfdc703744b091ca57724c22151c": {
          "model_module": "@jupyter-widgets/base",
          "model_name": "LayoutModel",
          "state": {
            "_view_name": "LayoutView",
            "grid_template_rows": null,
            "right": null,
            "justify_content": null,
            "_view_module": "@jupyter-widgets/base",
            "overflow": null,
            "_model_module_version": "1.2.0",
            "_view_count": null,
            "flex_flow": null,
            "width": null,
            "min_width": null,
            "border": null,
            "align_items": null,
            "bottom": null,
            "_model_module": "@jupyter-widgets/base",
            "top": null,
            "grid_column": null,
            "overflow_y": null,
            "overflow_x": null,
            "grid_auto_flow": null,
            "grid_area": null,
            "grid_template_columns": null,
            "flex": null,
            "_model_name": "LayoutModel",
            "justify_items": null,
            "grid_row": null,
            "max_height": null,
            "align_content": null,
            "visibility": null,
            "align_self": null,
            "height": null,
            "min_height": null,
            "padding": null,
            "grid_auto_rows": null,
            "grid_gap": null,
            "max_width": null,
            "order": null,
            "_view_module_version": "1.2.0",
            "grid_template_areas": null,
            "object_position": null,
            "object_fit": null,
            "grid_auto_columns": null,
            "margin": null,
            "display": null,
            "left": null
          }
        }
      }
    }
  },
  "cells": [
    {
      "cell_type": "markdown",
      "metadata": {
        "id": "view-in-github",
        "colab_type": "text"
      },
      "source": [
        "<a href=\"https://colab.research.google.com/github/harwarl/Pytorch/blob/main/Copy_of_Working_With_Cifar10.ipynb\" target=\"_parent\"><img src=\"https://colab.research.google.com/assets/colab-badge.svg\" alt=\"Open In Colab\"/></a>"
      ]
    },
    {
      "cell_type": "code",
      "metadata": {
        "id": "TkzrL15c57p4"
      },
      "source": [
        "import torch\n",
        "import torch.nn as nn\n",
        "from torchvision import datasets\n",
        "import numpy as np\n",
        "import pandas as pd\n",
        "import matplotlib.pyplot as plt"
      ],
      "execution_count": null,
      "outputs": []
    },
    {
      "cell_type": "code",
      "metadata": {
        "colab": {
          "base_uri": "https://localhost:8080/",
          "height": 35
        },
        "id": "cVOnjZ8r6MSd",
        "outputId": "1c67c64c-a9ac-4a99-ddf3-639a8f4a6508"
      },
      "source": [
        "pwd"
      ],
      "execution_count": null,
      "outputs": [
        {
          "output_type": "execute_result",
          "data": {
            "application/vnd.google.colaboratory.intrinsic+json": {
              "type": "string"
            },
            "text/plain": [
              "'/content'"
            ]
          },
          "metadata": {
            "tags": []
          },
          "execution_count": 2
        }
      ]
    },
    {
      "cell_type": "code",
      "metadata": {
        "colab": {
          "base_uri": "https://localhost:8080/",
          "height": 100,
          "referenced_widgets": [
            "6fa5a4f176cf444ea8e83a80e478bcf2",
            "b0dadc5ef6484d89aadd2b504fddb1c9",
            "1f59d84c95b24ba9898bcc27afd8be04",
            "df6d3894b72241e2a6107d859ac2294c",
            "d016c63152f14e4a9821075b1c25d6f5",
            "de90644064d2422eb525731755a2d24c",
            "e84a68331e0241ac80f9b299f5558873",
            "88d9cfdc703744b091ca57724c22151c"
          ]
        },
        "id": "6Nhe3AbX6R7T",
        "outputId": "3fe2d92c-bca2-40b3-f979-313f9694c259"
      },
      "source": [
        "data_path = '/content/'\n",
        "cifar10 = datasets.CIFAR10(data_path, train = True, download = True)\n",
        "cifar10_test = datasets.CIFAR10(data_path, train = False, download = True)"
      ],
      "execution_count": null,
      "outputs": [
        {
          "output_type": "stream",
          "text": [
            "Downloading https://www.cs.toronto.edu/~kriz/cifar-10-python.tar.gz to /content/cifar-10-python.tar.gz\n"
          ],
          "name": "stdout"
        },
        {
          "output_type": "display_data",
          "data": {
            "application/vnd.jupyter.widget-view+json": {
              "model_id": "6fa5a4f176cf444ea8e83a80e478bcf2",
              "version_minor": 0,
              "version_major": 2
            },
            "text/plain": [
              "HBox(children=(FloatProgress(value=1.0, bar_style='info', max=1.0), HTML(value='')))"
            ]
          },
          "metadata": {
            "tags": []
          }
        },
        {
          "output_type": "stream",
          "text": [
            "Extracting /content/cifar-10-python.tar.gz to /content/\n",
            "Files already downloaded and verified\n"
          ],
          "name": "stdout"
        }
      ]
    },
    {
      "cell_type": "code",
      "metadata": {
        "colab": {
          "base_uri": "https://localhost:8080/"
        },
        "id": "sNbMqGev7jqG",
        "outputId": "877055ab-5197-479c-9912-00f6bf9a3a33"
      },
      "source": [
        "cifar10"
      ],
      "execution_count": null,
      "outputs": [
        {
          "output_type": "execute_result",
          "data": {
            "text/plain": [
              "Dataset CIFAR10\n",
              "    Number of datapoints: 50000\n",
              "    Root location: /content/\n",
              "    Split: Train"
            ]
          },
          "metadata": {
            "tags": []
          },
          "execution_count": 5
        }
      ]
    },
    {
      "cell_type": "code",
      "metadata": {
        "colab": {
          "base_uri": "https://localhost:8080/"
        },
        "id": "6B0EYSVI76L8",
        "outputId": "d2e49d03-81df-4544-e1f3-211e9a6266e0"
      },
      "source": [
        "cifar10_test"
      ],
      "execution_count": null,
      "outputs": [
        {
          "output_type": "execute_result",
          "data": {
            "text/plain": [
              "Dataset CIFAR10\n",
              "    Number of datapoints: 10000\n",
              "    Root location: /content/\n",
              "    Split: Test"
            ]
          },
          "metadata": {
            "tags": []
          },
          "execution_count": 4
        }
      ]
    },
    {
      "cell_type": "code",
      "metadata": {
        "colab": {
          "base_uri": "https://localhost:8080/"
        },
        "id": "jN7XbJQy79xx",
        "outputId": "0fdd5e6d-cd1e-4e3b-d4c5-dab6cecae8b7"
      },
      "source": [
        "type(cifar10).__mro__"
      ],
      "execution_count": null,
      "outputs": [
        {
          "output_type": "execute_result",
          "data": {
            "text/plain": [
              "(torchvision.datasets.cifar.CIFAR10,\n",
              " torchvision.datasets.vision.VisionDataset,\n",
              " torch.utils.data.dataset.Dataset,\n",
              " typing.Generic,\n",
              " object)"
            ]
          },
          "metadata": {
            "tags": []
          },
          "execution_count": 6
        }
      ]
    },
    {
      "cell_type": "code",
      "metadata": {
        "colab": {
          "base_uri": "https://localhost:8080/"
        },
        "id": "7bJIm4708qaE",
        "outputId": "3e5df2b6-ceda-4e34-8399-05a65dcff3de"
      },
      "source": [
        "len(cifar10), len(cifar10_test)"
      ],
      "execution_count": null,
      "outputs": [
        {
          "output_type": "execute_result",
          "data": {
            "text/plain": [
              "(50000, 10000)"
            ]
          },
          "metadata": {
            "tags": []
          },
          "execution_count": 7
        }
      ]
    },
    {
      "cell_type": "code",
      "metadata": {
        "colab": {
          "base_uri": "https://localhost:8080/"
        },
        "id": "3vLVys2f8-o-",
        "outputId": "0de0c264-63a4-44d9-89fc-60a9c2125f4f"
      },
      "source": [
        "### checking the image , label and class of an ikmage in cifar 10\n",
        "img, label = cifar10[99]  ## gives the image in a PIL format\n",
        "img, label"
      ],
      "execution_count": null,
      "outputs": [
        {
          "output_type": "execute_result",
          "data": {
            "text/plain": [
              "(<PIL.Image.Image image mode=RGB size=32x32 at 0x7FA115A32CF8>, 1)"
            ]
          },
          "metadata": {
            "tags": []
          },
          "execution_count": 8
        }
      ]
    },
    {
      "cell_type": "code",
      "metadata": {
        "colab": {
          "base_uri": "https://localhost:8080/",
          "height": 283
        },
        "id": "P6ZMNMMN9bxL",
        "outputId": "355acd66-53b0-4841-9564-aa76340b64c4"
      },
      "source": [
        "plt.imshow(img, cmap = 'gray')  ## to show the image"
      ],
      "execution_count": null,
      "outputs": [
        {
          "output_type": "execute_result",
          "data": {
            "text/plain": [
              "<matplotlib.image.AxesImage at 0x7fa11366a198>"
            ]
          },
          "metadata": {
            "tags": []
          },
          "execution_count": 10
        },
        {
          "output_type": "display_data",
          "data": {
            "image/png": "[encoded data removed]",
            "text/plain": [
              "<Figure size 432x288 with 1 Axes>"
            ]
          },
          "metadata": {
            "tags": [],
            "needs_background": "light"
          }
        }
      ]
    },
    {
      "cell_type": "code",
      "metadata": {
        "colab": {
          "base_uri": "https://localhost:8080/"
        },
        "id": "IfGpHCA-9tRw",
        "outputId": "1bddb034-f161-4eb0-baec-9acf42a35674"
      },
      "source": [
        "## since we can't work a pIL Image, we have to convert it to a tensor. Using transform from Torchvision\n",
        "\n",
        "from torchvision import transforms\n",
        "\n",
        "dir(transforms)"
      ],
      "execution_count": null,
      "outputs": [
        {
          "output_type": "execute_result",
          "data": {
            "text/plain": [
              "['CenterCrop',\n",
              " 'ColorJitter',\n",
              " 'Compose',\n",
              " 'ConvertImageDtype',\n",
              " 'FiveCrop',\n",
              " 'GaussianBlur',\n",
              " 'Grayscale',\n",
              " 'Lambda',\n",
              " 'LinearTransformation',\n",
              " 'Normalize',\n",
              " 'PILToTensor',\n",
              " 'Pad',\n",
              " 'RandomAffine',\n",
              " 'RandomApply',\n",
              " 'RandomChoice',\n",
              " 'RandomCrop',\n",
              " 'RandomErasing',\n",
              " 'RandomGrayscale',\n",
              " 'RandomHorizontalFlip',\n",
              " 'RandomOrder',\n",
              " 'RandomPerspective',\n",
              " 'RandomResizedCrop',\n",
              " 'RandomRotation',\n",
              " 'RandomSizedCrop',\n",
              " 'RandomVerticalFlip',\n",
              " 'Resize',\n",
              " 'Scale',\n",
              " 'TenCrop',\n",
              " 'ToPILImage',\n",
              " 'ToTensor',\n",
              " '__builtins__',\n",
              " '__cached__',\n",
              " '__doc__',\n",
              " '__file__',\n",
              " '__loader__',\n",
              " '__name__',\n",
              " '__package__',\n",
              " '__path__',\n",
              " '__spec__',\n",
              " 'functional',\n",
              " 'functional_pil',\n",
              " 'functional_tensor',\n",
              " 'transforms']"
            ]
          },
          "metadata": {
            "tags": []
          },
          "execution_count": 11
        }
      ]
    },
    {
      "cell_type": "code",
      "metadata": {
        "colab": {
          "base_uri": "https://localhost:8080/"
        },
        "id": "ONUm3hPt-Wyi",
        "outputId": "95abf6e7-d9ef-4d49-c615-5c2606d2927b"
      },
      "source": [
        "## to convert the image to Tensor\n",
        "to_tensor = transforms.ToTensor()\n",
        "img_t = to_tensor(img)\n",
        "img_t.shape"
      ],
      "execution_count": null,
      "outputs": [
        {
          "output_type": "execute_result",
          "data": {
            "text/plain": [
              "torch.Size([3, 32, 32])"
            ]
          },
          "metadata": {
            "tags": []
          },
          "execution_count": 12
        }
      ]
    },
    {
      "cell_type": "code",
      "metadata": {
        "colab": {
          "base_uri": "https://localhost:8080/"
        },
        "id": "YMB_MV_7-jzE",
        "outputId": "3e4b15c3-ce3c-493c-d27a-ccd3cdfbb776"
      },
      "source": [
        "## putting it all together\n",
        "\n",
        "tensor_cifar10 = datasets.CIFAR10(data_path, train = True, download = True, transform = transforms.ToTensor())\n",
        "tensor_cifar10_test = datasets.CIFAR10(data_path, train = False, download = False, transform = transforms.ToTensor())"
      ],
      "execution_count": null,
      "outputs": [
        {
          "output_type": "stream",
          "text": [
            "Files already downloaded and verified\n"
          ],
          "name": "stdout"
        }
      ]
    },
    {
      "cell_type": "code",
      "metadata": {
        "colab": {
          "base_uri": "https://localhost:8080/"
        },
        "id": "UNUqopuY_mMf",
        "outputId": "91dedaa9-fc7e-40eb-cafb-2ff41eb91617"
      },
      "source": [
        "tensor_cifar10"
      ],
      "execution_count": null,
      "outputs": [
        {
          "output_type": "execute_result",
          "data": {
            "text/plain": [
              "Dataset CIFAR10\n",
              "    Number of datapoints: 50000\n",
              "    Root location: /content/\n",
              "    Split: Train\n",
              "    StandardTransform\n",
              "Transform: ToTensor()"
            ]
          },
          "metadata": {
            "tags": []
          },
          "execution_count": 14
        }
      ]
    },
    {
      "cell_type": "code",
      "metadata": {
        "colab": {
          "base_uri": "https://localhost:8080/"
        },
        "id": "6vz3wQr6_pi9",
        "outputId": "a05187e4-3877-4d3b-8a66-3d5bf384d9dc"
      },
      "source": [
        "img_t, _ = tensor_cifar10[99]\n",
        "img_t.dtype"
      ],
      "execution_count": null,
      "outputs": [
        {
          "output_type": "execute_result",
          "data": {
            "text/plain": [
              "torch.float32"
            ]
          },
          "metadata": {
            "tags": []
          },
          "execution_count": 15
        }
      ]
    },
    {
      "cell_type": "code",
      "metadata": {
        "colab": {
          "base_uri": "https://localhost:8080/"
        },
        "id": "85FZW8jF_470",
        "outputId": "3b59f5b0-fb87-4406-c02b-dc9663facc52"
      },
      "source": [
        "img_t.shape"
      ],
      "execution_count": null,
      "outputs": [
        {
          "output_type": "execute_result",
          "data": {
            "text/plain": [
              "torch.Size([3, 32, 32])"
            ]
          },
          "metadata": {
            "tags": []
          },
          "execution_count": 16
        }
      ]
    },
    {
      "cell_type": "code",
      "metadata": {
        "colab": {
          "base_uri": "https://localhost:8080/"
        },
        "id": "PLracu5Y_-1J",
        "outputId": "8474c4b2-817b-435e-a9db-f18f1cddce2c"
      },
      "source": [
        "img_t.min(), img_t.max()  ## ToTensor(transforms) scales the data  to 0-1 range"
      ],
      "execution_count": null,
      "outputs": [
        {
          "output_type": "execute_result",
          "data": {
            "text/plain": [
              "(tensor(0.), tensor(1.))"
            ]
          },
          "metadata": {
            "tags": []
          },
          "execution_count": 17
        }
      ]
    },
    {
      "cell_type": "code",
      "metadata": {
        "colab": {
          "base_uri": "https://localhost:8080/",
          "height": 283
        },
        "id": "f91_bJ9UAPDT",
        "outputId": "ca47c485-c715-47cc-81b9-b28746a3722f"
      },
      "source": [
        "## normal Image HxWxC\n",
        "\n",
        "img = img_t.permute(1, 2, 0)\n",
        "plt.imshow(img)"
      ],
      "execution_count": null,
      "outputs": [
        {
          "output_type": "execute_result",
          "data": {
            "text/plain": [
              "<matplotlib.image.AxesImage at 0x7fa113559278>"
            ]
          },
          "metadata": {
            "tags": []
          },
          "execution_count": 18
        },
        {
          "output_type": "display_data",
          "data": {
            "image/png": "[encoded data removed]",
            "text/plain": [
              "<Figure size 432x288 with 1 Axes>"
            ]
          },
          "metadata": {
            "tags": [],
            "needs_background": "light"
          }
        }
      ]
    },
    {
      "cell_type": "code",
      "metadata": {
        "colab": {
          "base_uri": "https://localhost:8080/"
        },
        "id": "XL7sChzgAk3t",
        "outputId": "2100a86a-14c9-452b-f6b8-5e39eb067b79"
      },
      "source": [
        "###stacking all the tensors along a direction to normalize the data\n",
        "\n",
        "imgs = torch.stack([img for img, _ in tensor_cifar10], dim = 3)\n",
        "imgs.shape"
      ],
      "execution_count": null,
      "outputs": [
        {
          "output_type": "execute_result",
          "data": {
            "text/plain": [
              "torch.Size([3, 32, 32, 50000])"
            ]
          },
          "metadata": {
            "tags": []
          },
          "execution_count": 19
        }
      ]
    },
    {
      "cell_type": "code",
      "metadata": {
        "colab": {
          "base_uri": "https://localhost:8080/"
        },
        "id": "SoQoXlHDCPaX",
        "outputId": "4fcf32cd-f300-467d-fe32-1ddbf047e5ab"
      },
      "source": [
        "print(imgs.view(3, -1).shape)\n",
        "imgs.view(3, -1).mean(dim = 1)  # keeping the RGB channel"
      ],
      "execution_count": null,
      "outputs": [
        {
          "output_type": "stream",
          "text": [
            "torch.Size([3, 51200000])\n"
          ],
          "name": "stdout"
        },
        {
          "output_type": "execute_result",
          "data": {
            "text/plain": [
              "tensor([0.4914, 0.4822, 0.4465])"
            ]
          },
          "metadata": {
            "tags": []
          },
          "execution_count": 21
        }
      ]
    },
    {
      "cell_type": "code",
      "metadata": {
        "colab": {
          "base_uri": "https://localhost:8080/"
        },
        "id": "BEgd21TbC0Xv",
        "outputId": "4bba0c54-4844-436a-c451-9c38cfc4ccb9"
      },
      "source": [
        "imgs.view(3, -1).std(dim = 1)"
      ],
      "execution_count": null,
      "outputs": [
        {
          "output_type": "execute_result",
          "data": {
            "text/plain": [
              "tensor([0.2470, 0.2435, 0.2616])"
            ]
          },
          "metadata": {
            "tags": []
          },
          "execution_count": 22
        }
      ]
    },
    {
      "cell_type": "code",
      "metadata": {
        "colab": {
          "base_uri": "https://localhost:8080/"
        },
        "id": "U-IrY4GsC7e7",
        "outputId": "dd94e060-8edf-43ba-a72e-db05106fe7b0"
      },
      "source": [
        "transforms.Normalize((0.4914, 0.4822, 0.4465), (0.2470, 0.2435, 0.2616))"
      ],
      "execution_count": null,
      "outputs": [
        {
          "output_type": "execute_result",
          "data": {
            "text/plain": [
              "Normalize(mean=(0.4914, 0.4822, 0.4465), std=(0.247, 0.2435, 0.2616))"
            ]
          },
          "metadata": {
            "tags": []
          },
          "execution_count": 23
        }
      ]
    },
    {
      "cell_type": "code",
      "metadata": {
        "colab": {
          "base_uri": "https://localhost:8080/"
        },
        "id": "DqH54kCoDhNO",
        "outputId": "b1e88b96-014d-4f7e-f70e-5d67cc277802"
      },
      "source": [
        "normalize_cifar10 = datasets.CIFAR10(data_path, train = True, download = True, transform = transforms.Compose([\n",
        "                                                                                                               transforms.ToTensor(),\n",
        "                                                                                                               transforms.Normalize((0.4914, 0.4822, 0.4465), \n",
        "                                                                                                                                    (0.2470, 0.2435, 0.2616))\n",
        "]))"
      ],
      "execution_count": null,
      "outputs": [
        {
          "output_type": "stream",
          "text": [
            "Files already downloaded and verified\n"
          ],
          "name": "stdout"
        }
      ]
    },
    {
      "cell_type": "code",
      "metadata": {
        "id": "gbK4GvzMEkJt"
      },
      "source": [
        "img_t, _ = normalize_cifar10[99]"
      ],
      "execution_count": null,
      "outputs": []
    },
    {
      "cell_type": "code",
      "metadata": {
        "colab": {
          "base_uri": "https://localhost:8080/"
        },
        "id": "neX0SkUNEROB",
        "outputId": "ed5f05a0-78f8-4d71-9e10-8a67e4fb676a"
      },
      "source": [
        "img_t.shape"
      ],
      "execution_count": null,
      "outputs": [
        {
          "output_type": "execute_result",
          "data": {
            "text/plain": [
              "torch.Size([3, 32, 32])"
            ]
          },
          "metadata": {
            "tags": []
          },
          "execution_count": 26
        }
      ]
    },
    {
      "cell_type": "code",
      "metadata": {
        "colab": {
          "base_uri": "https://localhost:8080/",
          "height": 300
        },
        "id": "XXk7WZxAErA8",
        "outputId": "b6e7269f-0df5-4b5c-cbeb-5ef4d4adfc7f"
      },
      "source": [
        "img = img_t.permute(1, 2, 0)\n",
        "plt.imshow(img)"
      ],
      "execution_count": null,
      "outputs": [
        {
          "output_type": "stream",
          "text": [
            "Clipping input data to the valid range for imshow with RGB data ([0..1] for floats or [0..255] for integers).\n"
          ],
          "name": "stderr"
        },
        {
          "output_type": "execute_result",
          "data": {
            "text/plain": [
              "<matplotlib.image.AxesImage at 0x7fa113591160>"
            ]
          },
          "metadata": {
            "tags": []
          },
          "execution_count": 27
        },
        {
          "output_type": "display_data",
          "data": {
            "image/png": "[encoded data removed]",
            "text/plain": [
              "<Figure size 432x288 with 1 Axes>"
            ]
          },
          "metadata": {
            "tags": [],
            "needs_background": "light"
          }
        }
      ]
    },
    {
      "cell_type": "markdown",
      "metadata": {
        "id": "FIk60xBaTUNL"
      },
      "source": [
        "***DIstinguishing Birds from Airplane***"
      ]
    },
    {
      "cell_type": "code",
      "metadata": {
        "colab": {
          "base_uri": "https://localhost:8080/"
        },
        "id": "Kk3QUIlhVZ0Q",
        "outputId": "1cd183ce-18ec-4b03-8731-205381bee450"
      },
      "source": [
        "cifar10 = datasets.CIFAR10(data_path, train = True, download = True, transform = transforms.Compose([\n",
        "                                                                                                               transforms.ToTensor(),\n",
        "                                                                                                               transforms.Normalize((0.4914, 0.4822, 0.4465), \n",
        "                                                                                                                                    (0.2470, 0.2435, 0.2616))\n",
        "]))\n",
        "\n",
        "cifar10_val = datasets.CIFAR10(data_path, train = False, download = True, transform = transforms.Compose([\n",
        "                                                                                                               transforms.ToTensor(),\n",
        "                                                                                                               transforms.Normalize((0.4914, 0.4822, 0.4465), \n",
        "                                                                                                                                    (0.2470, 0.2435, 0.2616))\n",
        "]))"
      ],
      "execution_count": null,
      "outputs": [
        {
          "output_type": "stream",
          "text": [
            "Files already downloaded and verified\n",
            "Files already downloaded and verified\n"
          ],
          "name": "stdout"
        }
      ]
    },
    {
      "cell_type": "code",
      "metadata": {
        "id": "8agjjh_pFVuB"
      },
      "source": [
        "label_map = {0: 0, 2:1}\n",
        "class_names= ['aeroplane', 'bird']\n",
        "cifar2 = [(img, label_map[label]) for img, label in cifar10 if label in [0, 2]]\n",
        "cifar2_val = [(img, label_map[label]) for img, label in cifar10_val if label in [0, 2]]"
      ],
      "execution_count": null,
      "outputs": []
    },
    {
      "cell_type": "code",
      "metadata": {
        "colab": {
          "base_uri": "https://localhost:8080/"
        },
        "id": "7SsUmbtRUqrk",
        "outputId": "a829c637-ea14-43ff-cde1-f90d5f2e41bb"
      },
      "source": [
        "cifar10[2]"
      ],
      "execution_count": null,
      "outputs": [
        {
          "output_type": "execute_result",
          "data": {
            "text/plain": [
              "(tensor([[[ 2.0591,  2.0274,  2.0274,  ...,  2.0274,  2.0274,  2.0274],\n",
              "          [ 2.0591,  2.0591,  2.0591,  ...,  2.0591,  2.0591,  2.0591],\n",
              "          [ 2.0591,  2.0432,  2.0432,  ...,  2.0432,  2.0432,  2.0432],\n",
              "          ...,\n",
              "          [-0.1954, -0.2271, -0.3224,  ..., -0.8463, -0.8463, -0.8463],\n",
              "          [-0.2271, -0.3383, -0.4177,  ..., -0.9099, -0.8781, -0.7511],\n",
              "          [-0.3065, -0.4177, -0.4812,  ..., -0.7511, -0.7352, -0.7193]],\n",
              " \n",
              "         [[ 2.1265,  2.0943,  2.0943,  ...,  2.0943,  2.0943,  2.0943],\n",
              "          [ 2.1265,  2.1265,  2.1265,  ...,  2.1265,  2.1265,  2.1265],\n",
              "          [ 2.1265,  2.1104,  2.1104,  ...,  2.1104,  2.1104,  2.1104],\n",
              "          ...,\n",
              "          [-0.0477, -0.0799, -0.1765,  ..., -0.6758, -0.6919, -0.6919],\n",
              "          [-0.0799, -0.1926, -0.2732,  ..., -0.7724, -0.7563, -0.6275],\n",
              "          [-0.1604, -0.2732, -0.3376,  ..., -0.6114, -0.6114, -0.5953]],\n",
              " \n",
              "         [[ 2.1158,  2.0858,  2.0858,  ...,  2.0858,  2.0858,  2.0858],\n",
              "          [ 2.1158,  2.1158,  2.1158,  ...,  2.1158,  2.1158,  2.1158],\n",
              "          [ 2.1158,  2.1008,  2.1008,  ...,  2.1008,  2.1008,  2.1008],\n",
              "          ...,\n",
              "          [-0.0278, -0.0428, -0.1178,  ..., -0.5075, -0.5225, -0.5225],\n",
              "          [-0.0578, -0.1478, -0.2377,  ..., -0.6125, -0.5825, -0.4776],\n",
              "          [-0.1328, -0.2377, -0.2977,  ..., -0.4626, -0.4626, -0.4476]]]), 9)"
            ]
          },
          "metadata": {
            "tags": []
          },
          "execution_count": 39
        }
      ]
    },
    {
      "cell_type": "code",
      "metadata": {
        "colab": {
          "base_uri": "https://localhost:8080/"
        },
        "id": "40pvU5UmVl76",
        "outputId": "09da1ce5-646e-433b-b88b-68254cbe6cdf"
      },
      "source": [
        "## softmax\n",
        "\n",
        "def softmax(x):\n",
        "  return torch.exp(x)/ torch.exp(x).sum()\n",
        "\n",
        "x = torch.tensor([1.0, 2.0, 3.0])\n",
        "\n",
        "softmax(x)\n"
      ],
      "execution_count": null,
      "outputs": [
        {
          "output_type": "execute_result",
          "data": {
            "text/plain": [
              "tensor([0.0900, 0.2447, 0.6652])"
            ]
          },
          "metadata": {
            "tags": []
          },
          "execution_count": 40
        }
      ]
    },
    {
      "cell_type": "code",
      "metadata": {
        "colab": {
          "base_uri": "https://localhost:8080/"
        },
        "id": "pJj5tIfQYpwT",
        "outputId": "17d3f801-e64b-41bb-e50e-e59c532d13cc"
      },
      "source": [
        "x = torch.tensor([[1.0, 2.0, 3.0], \n",
        "                 [1.0, 2.0, 3.0]])\n",
        "\n",
        "softmax = nn.Softmax(dim = 1)\n",
        "softmax(x)"
      ],
      "execution_count": null,
      "outputs": [
        {
          "output_type": "execute_result",
          "data": {
            "text/plain": [
              "tensor([[0.0900, 0.2447, 0.6652],\n",
              "        [0.0900, 0.2447, 0.6652]])"
            ]
          },
          "metadata": {
            "tags": []
          },
          "execution_count": 42
        }
      ]
    },
    {
      "cell_type": "code",
      "metadata": {
        "colab": {
          "base_uri": "https://localhost:8080/"
        },
        "id": "0Bce55ZCbKXa",
        "outputId": "0d2938e5-4fb6-4653-c441-32e5e9859ec3"
      },
      "source": [
        "32 * 32 * 3"
      ],
      "execution_count": null,
      "outputs": [
        {
          "output_type": "execute_result",
          "data": {
            "text/plain": [
              "3072"
            ]
          },
          "metadata": {
            "tags": []
          },
          "execution_count": 44
        }
      ]
    },
    {
      "cell_type": "code",
      "metadata": {
        "id": "fMfMNA30aGFz"
      },
      "source": [
        "model = nn.Sequential(\n",
        "    nn.Linear(3072, 512), \n",
        "    nn.Tanh(), \n",
        "    nn.Linear(512, 2), \n",
        "    nn.Softmax(dim = 1)\n",
        ")"
      ],
      "execution_count": null,
      "outputs": []
    },
    {
      "cell_type": "code",
      "metadata": {
        "colab": {
          "base_uri": "https://localhost:8080/"
        },
        "id": "5n5gtrapbaxy",
        "outputId": "b4341686-b189-45c9-b18b-e0d8471826bb"
      },
      "source": [
        "model"
      ],
      "execution_count": null,
      "outputs": [
        {
          "output_type": "execute_result",
          "data": {
            "text/plain": [
              "Sequential(\n",
              "  (0): Linear(in_features=3072, out_features=512, bias=True)\n",
              "  (1): Tanh()\n",
              "  (2): Linear(in_features=512, out_features=2, bias=True)\n",
              "  (3): Softmax(dim=1)\n",
              ")"
            ]
          },
          "metadata": {
            "tags": []
          },
          "execution_count": 46
        }
      ]
    },
    {
      "cell_type": "code",
      "metadata": {
        "colab": {
          "base_uri": "https://localhost:8080/",
          "height": 300
        },
        "id": "VmNTUzMtbbsq",
        "outputId": "ce4f2965-d286-423f-9bf9-86f103be7f05"
      },
      "source": [
        "img, _ = cifar2[0]\n",
        "img = img.permute(1, 2, 0)\n",
        "plt.imshow(img)"
      ],
      "execution_count": null,
      "outputs": [
        {
          "output_type": "stream",
          "text": [
            "Clipping input data to the valid range for imshow with RGB data ([0..1] for floats or [0..255] for integers).\n"
          ],
          "name": "stderr"
        },
        {
          "output_type": "execute_result",
          "data": {
            "text/plain": [
              "<matplotlib.image.AxesImage at 0x7fa10997a9e8>"
            ]
          },
          "metadata": {
            "tags": []
          },
          "execution_count": 51
        },
        {
          "output_type": "display_data",
          "data": {
            "image/png": "[encoded data removed]",
            "text/plain": [
              "<Figure size 432x288 with 1 Axes>"
            ]
          },
          "metadata": {
            "tags": [],
            "needs_background": "light"
          }
        }
      ]
    },
    {
      "cell_type": "code",
      "metadata": {
        "colab": {
          "base_uri": "https://localhost:8080/"
        },
        "id": "OyKrfnbaciIy",
        "outputId": "dd9bd5b5-6b93-44a8-b6c5-a29011d4f454"
      },
      "source": [
        "img_batch = img.reshape(-1).unsqueeze(0)\n",
        "img_batch.shape"
      ],
      "execution_count": null,
      "outputs": [
        {
          "output_type": "execute_result",
          "data": {
            "text/plain": [
              "torch.Size([1, 3072])"
            ]
          },
          "metadata": {
            "tags": []
          },
          "execution_count": 57
        }
      ]
    },
    {
      "cell_type": "code",
      "metadata": {
        "id": "kNOX_xdqdCpj"
      },
      "source": [
        "out = model(img_batch)"
      ],
      "execution_count": null,
      "outputs": []
    },
    {
      "cell_type": "code",
      "metadata": {
        "colab": {
          "base_uri": "https://localhost:8080/"
        },
        "id": "FNHGuj4adT35",
        "outputId": "4d133b7b-aceb-45ee-d932-1bb0e787f5e1"
      },
      "source": [
        "out"
      ],
      "execution_count": null,
      "outputs": [
        {
          "output_type": "execute_result",
          "data": {
            "text/plain": [
              "tensor([[0.5807, 0.4193]], grad_fn=<SoftmaxBackward>)"
            ]
          },
          "metadata": {
            "tags": []
          },
          "execution_count": 59
        }
      ]
    },
    {
      "cell_type": "code",
      "metadata": {
        "colab": {
          "base_uri": "https://localhost:8080/"
        },
        "id": "SpEfD7VNdY6I",
        "outputId": "c177b463-e369-404f-a249-44f4cfac9f62"
      },
      "source": [
        "_, index = torch.max(out, dim = 1)\n",
        "index"
      ],
      "execution_count": null,
      "outputs": [
        {
          "output_type": "execute_result",
          "data": {
            "text/plain": [
              "tensor([0])"
            ]
          },
          "metadata": {
            "tags": []
          },
          "execution_count": 60
        }
      ]
    },
    {
      "cell_type": "code",
      "metadata": {
        "colab": {
          "base_uri": "https://localhost:8080/",
          "height": 35
        },
        "id": "CnVoW-gMd6ad",
        "outputId": "13a53ace-81a6-42e8-9e83-2f63d5f447e7"
      },
      "source": [
        "class_names[index.item()]"
      ],
      "execution_count": null,
      "outputs": [
        {
          "output_type": "execute_result",
          "data": {
            "application/vnd.google.colaboratory.intrinsic+json": {
              "type": "string"
            },
            "text/plain": [
              "'aeroplane'"
            ]
          },
          "metadata": {
            "tags": []
          },
          "execution_count": 61
        }
      ]
    },
    {
      "cell_type": "code",
      "metadata": {
        "id": "og7WZ7rmeM8g"
      },
      "source": [
        "## using NLLLoss to keep track of our loss. It only takes in log probabilities as inputs. nn.LogSoftmax gives output in Logarithmic form\n",
        "\n",
        "# aAdjusting the model\n",
        "model = nn.Sequential(\n",
        "    nn.Linear(3072, 512), \n",
        "    nn.Tanh(), \n",
        "    nn.Linear(512, 2), \n",
        "    nn.LogSoftmax(dim = 1)\n",
        ")\n",
        "\n",
        "loss = nn.NLLLoss()"
      ],
      "execution_count": null,
      "outputs": []
    },
    {
      "cell_type": "code",
      "metadata": {
        "colab": {
          "base_uri": "https://localhost:8080/"
        },
        "id": "rKDRbxD0gm2U",
        "outputId": "a4ce8d2d-6299-4ec3-eaff-03acf49c5d2a"
      },
      "source": [
        "img, label = cifar2[0]\n",
        "out = model(img.reshape(-1).unsqueeze(0))\n",
        "loss(out, torch.tensor([label]))"
      ],
      "execution_count": null,
      "outputs": [
        {
          "output_type": "execute_result",
          "data": {
            "text/plain": [
              "tensor(0.6470, grad_fn=<NllLossBackward>)"
            ]
          },
          "metadata": {
            "tags": []
          },
          "execution_count": 64
        }
      ]
    },
    {
      "cell_type": "code",
      "metadata": {
        "colab": {
          "base_uri": "https://localhost:8080/"
        },
        "id": "QWHaPyhbg6uk",
        "outputId": "ccda53a9-87e7-46c9-ea0b-070a289c0a08"
      },
      "source": [
        "import torch.optim as optim\n",
        "model = nn.Sequential(\n",
        "    nn.Linear(3072, 512), \n",
        "    nn.Tanh(), \n",
        "    nn.Linear(512, 2), \n",
        "    nn.LogSoftmax(dim = 1)\n",
        ")\n",
        "\n",
        "loss_fn = nn.NLLLoss()\n",
        "optimizer = optim.SGD(model.parameters(), lr = 1e-2)\n",
        "n_epoch = 100\n",
        "img, label = cifar2[0]\n",
        "for epoch in range(1, n_epoch + 1):\n",
        "  out = model(img.reshape(-1).unsqueeze(0))\n",
        "  loss = loss_fn(out, torch.tensor([label]))\n",
        "\n",
        "  optimizer.zero_grad()\n",
        "  loss.backward()\n",
        "  optimizer.step()\n",
        "\n",
        "  print(f\"Epoch: {epoch}, Loss: {loss}\")"
      ],
      "execution_count": null,
      "outputs": [
        {
          "output_type": "stream",
          "text": [
            "Epoch: 1, Loss: 0.6738971471786499\n",
            "Epoch: 2, Loss: 0.003167494898661971\n",
            "Epoch: 3, Loss: 0.003072305815294385\n",
            "Epoch: 4, Loss: 0.0029828124679625034\n",
            "Epoch: 5, Loss: 0.002898422535508871\n",
            "Epoch: 6, Loss: 0.0028187802527099848\n",
            "Epoch: 7, Loss: 0.0027435303200036287\n",
            "Epoch: 8, Loss: 0.0026723172049969435\n",
            "Epoch: 9, Loss: 0.0026047846768051386\n",
            "Epoch: 10, Loss: 0.002540576970204711\n",
            "Epoch: 11, Loss: 0.002479576040059328\n",
            "Epoch: 12, Loss: 0.002421425189822912\n",
            "Epoch: 13, Loss: 0.0023660066071897745\n",
            "Epoch: 14, Loss: 0.002313201315701008\n",
            "Epoch: 15, Loss: 0.002262653084471822\n",
            "Epoch: 16, Loss: 0.0022143623791635036\n",
            "Epoch: 17, Loss: 0.002168091479688883\n",
            "Epoch: 18, Loss: 0.002123840618878603\n",
            "Epoch: 19, Loss: 0.002081372309476137\n",
            "Epoch: 20, Loss: 0.002040567807853222\n",
            "Epoch: 21, Loss: 0.00200130813755095\n",
            "Epoch: 22, Loss: 0.001963593764230609\n",
            "Epoch: 23, Loss: 0.0019273054786026478\n",
            "Epoch: 24, Loss: 0.0018924438627436757\n",
            "Epoch: 25, Loss: 0.0018587708473205566\n",
            "Epoch: 26, Loss: 0.0018262865487486124\n",
            "Epoch: 27, Loss: 0.0017949911998584867\n",
            "Epoch: 28, Loss: 0.001764765940606594\n",
            "Epoch: 29, Loss: 0.0017354916781187057\n",
            "Epoch: 30, Loss: 0.0017072877380996943\n",
            "Epoch: 31, Loss: 0.0016799159348011017\n",
            "Epoch: 32, Loss: 0.0016534955939278007\n",
            "Epoch: 33, Loss: 0.0016277885297313333\n",
            "Epoch: 34, Loss: 0.0016030330443754792\n",
            "Epoch: 35, Loss: 0.0015789910685271025\n",
            "Epoch: 36, Loss: 0.0015555436257272959\n",
            "Epoch: 37, Loss: 0.0015329287853091955\n",
            "Epoch: 38, Loss: 0.0015109085943549871\n",
            "Epoch: 39, Loss: 0.0014896021457388997\n",
            "Epoch: 40, Loss: 0.0014688903465867043\n",
            "Epoch: 41, Loss: 0.0014486543368548155\n",
            "Epoch: 42, Loss: 0.0014291321858763695\n",
            "Epoch: 43, Loss: 0.0014099667314440012\n",
            "Epoch: 44, Loss: 0.0013915151357650757\n",
            "Epoch: 45, Loss: 0.0013734203530475497\n",
            "Epoch: 46, Loss: 0.0013558013597503304\n",
            "Epoch: 47, Loss: 0.0013386583887040615\n",
            "Epoch: 48, Loss: 0.001321991323493421\n",
            "Epoch: 49, Loss: 0.0013056810712441802\n",
            "Epoch: 50, Loss: 0.0012897277483716607\n",
            "Epoch: 51, Loss: 0.0012742503313347697\n",
            "Epoch: 52, Loss: 0.001259129960089922\n",
            "Epoch: 53, Loss: 0.0012443665182217956\n",
            "Epoch: 54, Loss: 0.0012299600057303905\n",
            "Epoch: 55, Loss: 0.0012159105390310287\n",
            "Epoch: 56, Loss: 0.0012020989088341594\n",
            "Epoch: 57, Loss: 0.0011887634173035622\n",
            "Epoch: 58, Loss: 0.0011755467858165503\n",
            "Epoch: 59, Loss: 0.0011626873165369034\n",
            "Epoch: 60, Loss: 0.0011501847766339779\n",
            "Epoch: 61, Loss: 0.0011379201896488667\n",
            "Epoch: 62, Loss: 0.0011258936719968915\n",
            "Epoch: 63, Loss: 0.0011141052236780524\n",
            "Epoch: 64, Loss: 0.0011025547282770276\n",
            "Epoch: 65, Loss: 0.0010912423022091389\n",
            "Epoch: 66, Loss: 0.0010802869219332933\n",
            "Epoch: 67, Loss: 0.001069450518116355\n",
            "Epoch: 68, Loss: 0.0010588521836325526\n",
            "Epoch: 69, Loss: 0.0010483728256076574\n",
            "Epoch: 70, Loss: 0.0010382506297901273\n",
            "Epoch: 71, Loss: 0.0010282472940161824\n",
            "Epoch: 72, Loss: 0.0010184821439906955\n",
            "Epoch: 73, Loss: 0.0010088359704241157\n",
            "Epoch: 74, Loss: 0.0009994279826059937\n",
            "Epoch: 75, Loss: 0.000990257947705686\n",
            "Epoch: 76, Loss: 0.0009810879128053784\n",
            "Epoch: 77, Loss: 0.0009722749819047749\n",
            "Epoch: 78, Loss: 0.0009634620510041714\n",
            "Epoch: 79, Loss: 0.0009548871894367039\n",
            "Epoch: 80, Loss: 0.0009464313625358045\n",
            "Epoch: 81, Loss: 0.0009382136631757021\n",
            "Epoch: 82, Loss: 0.0009301149984821677\n",
            "Epoch: 83, Loss: 0.0009221353684552014\n",
            "Epoch: 84, Loss: 0.0009142747730948031\n",
            "Epoch: 85, Loss: 0.0009065332706086338\n",
            "Epoch: 86, Loss: 0.0008989107445813715\n",
            "Epoch: 87, Loss: 0.0008915264043025672\n",
            "Epoch: 88, Loss: 0.0008841419476084411\n",
            "Epoch: 89, Loss: 0.0008768765837885439\n",
            "Epoch: 90, Loss: 0.0008698494057171047\n",
            "Epoch: 91, Loss: 0.0008628221112303436\n",
            "Epoch: 92, Loss: 0.0008560330606997013\n",
            "Epoch: 93, Loss: 0.0008492438937537372\n",
            "Epoch: 94, Loss: 0.0008425738196820021\n",
            "Epoch: 95, Loss: 0.0008360228384844959\n",
            "Epoch: 96, Loss: 0.0008295908919535577\n",
            "Epoch: 97, Loss: 0.0008232779800891876\n",
            "Epoch: 98, Loss: 0.0008170842193067074\n",
            "Epoch: 99, Loss: 0.0008108903421089053\n",
            "Epoch: 100, Loss: 0.0008048156159929931\n"
          ],
          "name": "stdout"
        }
      ]
    },
    {
      "cell_type": "code",
      "metadata": {
        "id": "omjn_KD8uy-m"
      },
      "source": [
        "##organizing data in  minibatches using torch.utils.data.DataLoader\n",
        "\n",
        "train_loader = torch.utils.data.DataLoader(cifar2, batch_size= 64, shuffle = True)"
      ],
      "execution_count": null,
      "outputs": []
    },
    {
      "cell_type": "code",
      "metadata": {
        "colab": {
          "base_uri": "https://localhost:8080/"
        },
        "id": "qff-711vwVmv",
        "outputId": "64d5c3eb-9a9f-40e5-e337-022fad652b60"
      },
      "source": [
        "## DataLoader can be iterated over so it can be introduced in the training Loop\n",
        "\n",
        "train_loader = torch.utils.data.DataLoader(cifar2, batch_size = 64, shuffle = True)\n",
        "import torch.optim as optim\n",
        "model = nn.Sequential(\n",
        "    nn.Linear(3072, 512), \n",
        "    nn.Tanh(), \n",
        "    nn.Linear(512, 2), \n",
        "    nn.LogSoftmax(dim = 1)\n",
        ")\n",
        "\n",
        "loss_fn = nn.NLLLoss()\n",
        "optimizer = optim.SGD(model.parameters(), lr = 1e-2)\n",
        "n_epoch = 100\n",
        "for epoch in range(1, n_epoch + 1):\n",
        "  for img, labels in train_loader:\n",
        "    batch = img.shape[0]\n",
        "    output = model(img.reshape(batch, -1))\n",
        "    loss = loss_fn(output, labels)\n",
        "    optimizer.zero_grad()\n",
        "    loss.backward()\n",
        "    optimizer.step()\n",
        "\n",
        "  print(f\"Epoch: {epoch}, Loss: {loss}\")"
      ],
      "execution_count": null,
      "outputs": [
        {
          "output_type": "stream",
          "text": [
            "Epoch: 1, Loss: 0.35536646842956543\n",
            "Epoch: 2, Loss: 0.8111211061477661\n",
            "Epoch: 3, Loss: 0.3503064215183258\n",
            "Epoch: 4, Loss: 0.2632753252983093\n",
            "Epoch: 5, Loss: 0.635981023311615\n",
            "Epoch: 6, Loss: 0.2528478801250458\n",
            "Epoch: 7, Loss: 0.2738896310329437\n",
            "Epoch: 8, Loss: 0.5266062617301941\n",
            "Epoch: 9, Loss: 0.2725158631801605\n",
            "Epoch: 10, Loss: 0.4207648038864136\n",
            "Epoch: 11, Loss: 1.166111707687378\n",
            "Epoch: 12, Loss: 0.5230740904808044\n",
            "Epoch: 13, Loss: 0.5258932113647461\n",
            "Epoch: 14, Loss: 0.23014208674430847\n",
            "Epoch: 15, Loss: 0.3203120529651642\n",
            "Epoch: 16, Loss: 0.6353141069412231\n",
            "Epoch: 17, Loss: 0.265179842710495\n",
            "Epoch: 18, Loss: 0.23890379071235657\n",
            "Epoch: 19, Loss: 0.6417251229286194\n",
            "Epoch: 20, Loss: 0.4833498001098633\n",
            "Epoch: 21, Loss: 0.3073992133140564\n",
            "Epoch: 22, Loss: 0.24093356728553772\n",
            "Epoch: 23, Loss: 0.18009747564792633\n",
            "Epoch: 24, Loss: 0.15768684446811676\n",
            "Epoch: 25, Loss: 0.3952656090259552\n",
            "Epoch: 26, Loss: 0.38173550367355347\n",
            "Epoch: 27, Loss: 0.34982702136039734\n",
            "Epoch: 28, Loss: 0.30058059096336365\n",
            "Epoch: 29, Loss: 0.43501943349838257\n",
            "Epoch: 30, Loss: 0.07629719376564026\n",
            "Epoch: 31, Loss: 0.14216336607933044\n",
            "Epoch: 32, Loss: 0.04853978753089905\n",
            "Epoch: 33, Loss: 0.2850543260574341\n",
            "Epoch: 34, Loss: 0.27684852480888367\n",
            "Epoch: 35, Loss: 0.3241441547870636\n",
            "Epoch: 36, Loss: 0.05079786106944084\n",
            "Epoch: 37, Loss: 0.10671523958444595\n",
            "Epoch: 38, Loss: 0.13733434677124023\n",
            "Epoch: 39, Loss: 0.08327983319759369\n",
            "Epoch: 40, Loss: 0.061996012926101685\n",
            "Epoch: 41, Loss: 0.05477724224328995\n",
            "Epoch: 42, Loss: 0.14914338290691376\n",
            "Epoch: 43, Loss: 0.06942131370306015\n",
            "Epoch: 44, Loss: 0.0785110592842102\n",
            "Epoch: 45, Loss: 0.04595009237527847\n",
            "Epoch: 46, Loss: 0.07619362324476242\n",
            "Epoch: 47, Loss: 0.17547422647476196\n",
            "Epoch: 48, Loss: 0.13285920023918152\n",
            "Epoch: 49, Loss: 0.07771681249141693\n",
            "Epoch: 50, Loss: 0.11386360973119736\n",
            "Epoch: 51, Loss: 0.08133742958307266\n",
            "Epoch: 52, Loss: 0.07023146748542786\n",
            "Epoch: 53, Loss: 0.04178362339735031\n",
            "Epoch: 54, Loss: 0.13556833565235138\n",
            "Epoch: 55, Loss: 0.03941216319799423\n",
            "Epoch: 56, Loss: 0.03389114886522293\n",
            "Epoch: 57, Loss: 0.04939351603388786\n",
            "Epoch: 58, Loss: 0.05366098880767822\n",
            "Epoch: 59, Loss: 0.05093599483370781\n",
            "Epoch: 60, Loss: 0.028338313102722168\n",
            "Epoch: 61, Loss: 0.06772875040769577\n",
            "Epoch: 62, Loss: 0.03233518823981285\n",
            "Epoch: 63, Loss: 0.013212296180427074\n",
            "Epoch: 64, Loss: 0.12852062284946442\n",
            "Epoch: 65, Loss: 0.040827203541994095\n",
            "Epoch: 66, Loss: 0.026168951764702797\n",
            "Epoch: 67, Loss: 0.02939099632203579\n",
            "Epoch: 68, Loss: 0.027019670233130455\n",
            "Epoch: 69, Loss: 0.05939502269029617\n",
            "Epoch: 70, Loss: 0.05568680539727211\n",
            "Epoch: 71, Loss: 0.009984074160456657\n",
            "Epoch: 72, Loss: 0.008826175704598427\n",
            "Epoch: 73, Loss: 0.021410541608929634\n",
            "Epoch: 74, Loss: 0.008186766877770424\n",
            "Epoch: 75, Loss: 0.04454091563820839\n",
            "Epoch: 76, Loss: 0.023692181333899498\n",
            "Epoch: 77, Loss: 0.03397483751177788\n",
            "Epoch: 78, Loss: 0.013877465389668941\n",
            "Epoch: 79, Loss: 0.012550518848001957\n",
            "Epoch: 80, Loss: 0.009824139066040516\n",
            "Epoch: 81, Loss: 0.01843987964093685\n",
            "Epoch: 82, Loss: 0.022380268201231956\n",
            "Epoch: 83, Loss: 0.01330801285803318\n",
            "Epoch: 84, Loss: 0.014885126613080502\n",
            "Epoch: 85, Loss: 0.024041149765253067\n",
            "Epoch: 86, Loss: 0.03295299410820007\n",
            "Epoch: 87, Loss: 0.03332481533288956\n",
            "Epoch: 88, Loss: 0.01230810210108757\n",
            "Epoch: 89, Loss: 0.01007666252553463\n",
            "Epoch: 90, Loss: 0.011906318366527557\n",
            "Epoch: 91, Loss: 0.009050088003277779\n",
            "Epoch: 92, Loss: 0.02058131992816925\n",
            "Epoch: 93, Loss: 0.008610988967120647\n",
            "Epoch: 94, Loss: 0.0058629801496863365\n",
            "Epoch: 95, Loss: 0.012859735637903214\n",
            "Epoch: 96, Loss: 0.005208170507103205\n",
            "Epoch: 97, Loss: 0.0098383454605937\n",
            "Epoch: 98, Loss: 0.02480195090174675\n",
            "Epoch: 99, Loss: 0.020503506064414978\n",
            "Epoch: 100, Loss: 0.012020357884466648\n"
          ],
          "name": "stdout"
        }
      ]
    },
    {
      "cell_type": "code",
      "metadata": {
        "colab": {
          "base_uri": "https://localhost:8080/"
        },
        "id": "iTYYGtmbxmqf",
        "outputId": "65ba3671-e6e7-4031-8919-99a218131154"
      },
      "source": [
        "val_loader = torch.utils.data.DataLoader(cifar2_val, batch_size = 64, shuffle = False)\n",
        "\n",
        "total  =0\n",
        "correct = 0\n",
        "with torch.no_grad():\n",
        "  for imgs, labels in val_loader:\n",
        "    batch = imgs.shape[0]\n",
        "    outputs = model(imgs.view(batch, -1))\n",
        "    _, predicted = torch.max(outputs, dim = 1)  ## returns valu and index of the max in the list\n",
        "    total += labels.shape[0]\n",
        "    correct += int((predicted == labels).sum())\n",
        "\n",
        "  print('Accuracy: %f' %(correct / total))"
      ],
      "execution_count": null,
      "outputs": [
        {
          "output_type": "stream",
          "text": [
            "Accuracy: 0.814500\n"
          ],
          "name": "stdout"
        }
      ]
    },
    {
      "cell_type": "code",
      "metadata": {
        "colab": {
          "base_uri": "https://localhost:8080/"
        },
        "id": "hakOCrqf01e5",
        "outputId": "e179a5f9-00bb-492c-8728-5b3ac8aaa8ae"
      },
      "source": [
        "correct"
      ],
      "execution_count": null,
      "outputs": [
        {
          "output_type": "execute_result",
          "data": {
            "text/plain": [
              "1629"
            ]
          },
          "metadata": {
            "tags": []
          },
          "execution_count": 76
        }
      ]
    },
    {
      "cell_type": "code",
      "metadata": {
        "colab": {
          "base_uri": "https://localhost:8080/"
        },
        "id": "PTo3PYQI1Ufe",
        "outputId": "70982c34-649d-4277-e515-254b088d1b2a"
      },
      "source": [
        "import torch.optim as optim\n",
        "model = nn.Sequential(\n",
        "    nn.Linear(3072, 1024), \n",
        "    nn.Tanh(), \n",
        "    nn.Linear(1024, 512),\n",
        "    nn.Tanh(), \n",
        "    nn.Linear(512, 128),\n",
        "    nn.Tanh(), \n",
        "    nn.Linear(128, 2),\n",
        "    nn.LogSoftmax(dim = 1)\n",
        ")\n",
        "\n",
        "loss_fn = nn.NLLLoss()\n",
        "optimizer = optim.SGD(model.parameters(), lr = 1e-2)\n",
        "n_epoch = 100\n",
        "for epoch in range(1, n_epoch + 1):\n",
        "  for img, labels in train_loader:\n",
        "    batch = img.shape[0]\n",
        "    output = model(img.reshape(batch, -1))\n",
        "    loss = loss_fn(output, labels)\n",
        "    optimizer.zero_grad()\n",
        "    loss.backward()\n",
        "    optimizer.step()\n",
        "\n",
        "  print(f\"Epoch: {epoch}, Loss: {loss}\")"
      ],
      "execution_count": null,
      "outputs": [
        {
          "output_type": "stream",
          "text": [
            "Epoch: 1, Loss: 0.503502607345581\n",
            "Epoch: 2, Loss: 0.46266308426856995\n",
            "Epoch: 3, Loss: 0.3620375394821167\n",
            "Epoch: 4, Loss: 0.28726404905319214\n",
            "Epoch: 5, Loss: 0.5537788271903992\n",
            "Epoch: 6, Loss: 0.20802733302116394\n",
            "Epoch: 7, Loss: 0.4975307285785675\n",
            "Epoch: 8, Loss: 0.6019406914710999\n",
            "Epoch: 9, Loss: 0.42664259672164917\n",
            "Epoch: 10, Loss: 0.8071404099464417\n",
            "Epoch: 11, Loss: 0.5662958025932312\n",
            "Epoch: 12, Loss: 0.3402497172355652\n",
            "Epoch: 13, Loss: 0.3950251638889313\n",
            "Epoch: 14, Loss: 0.5994139909744263\n",
            "Epoch: 15, Loss: 0.7059458494186401\n",
            "Epoch: 16, Loss: 0.3868451416492462\n",
            "Epoch: 17, Loss: 0.3889952301979065\n",
            "Epoch: 18, Loss: 0.17625461518764496\n",
            "Epoch: 19, Loss: 0.22121675312519073\n",
            "Epoch: 20, Loss: 0.3556559383869171\n",
            "Epoch: 21, Loss: 0.16532671451568604\n",
            "Epoch: 22, Loss: 0.3499157726764679\n",
            "Epoch: 23, Loss: 0.12244904786348343\n",
            "Epoch: 24, Loss: 0.08040455728769302\n",
            "Epoch: 25, Loss: 0.16757728159427643\n",
            "Epoch: 26, Loss: 0.26231348514556885\n",
            "Epoch: 27, Loss: 0.3932756781578064\n",
            "Epoch: 28, Loss: 0.24242691695690155\n",
            "Epoch: 29, Loss: 0.06001283973455429\n",
            "Epoch: 30, Loss: 0.23392605781555176\n",
            "Epoch: 31, Loss: 0.20319992303848267\n",
            "Epoch: 32, Loss: 0.13276010751724243\n",
            "Epoch: 33, Loss: 0.28114497661590576\n",
            "Epoch: 34, Loss: 0.3236334025859833\n",
            "Epoch: 35, Loss: 0.023883715271949768\n",
            "Epoch: 36, Loss: 0.309334397315979\n",
            "Epoch: 37, Loss: 0.10617579519748688\n",
            "Epoch: 38, Loss: 0.024539165198802948\n",
            "Epoch: 39, Loss: 0.09631803631782532\n",
            "Epoch: 40, Loss: 0.049165029078722\n",
            "Epoch: 41, Loss: 0.04466832056641579\n",
            "Epoch: 42, Loss: 0.27752670645713806\n",
            "Epoch: 43, Loss: 0.057476554065942764\n",
            "Epoch: 44, Loss: 0.04541826993227005\n",
            "Epoch: 45, Loss: 0.2509889602661133\n",
            "Epoch: 46, Loss: 0.07971224933862686\n",
            "Epoch: 47, Loss: 0.01234014518558979\n",
            "Epoch: 48, Loss: 0.03441326320171356\n",
            "Epoch: 49, Loss: 0.08623366057872772\n",
            "Epoch: 50, Loss: 0.06412757188081741\n",
            "Epoch: 51, Loss: 0.11164183914661407\n",
            "Epoch: 52, Loss: 0.0023909437004476786\n",
            "Epoch: 53, Loss: 0.009939420968294144\n",
            "Epoch: 54, Loss: 0.06430137157440186\n",
            "Epoch: 55, Loss: 0.1455143541097641\n",
            "Epoch: 56, Loss: 0.41517072916030884\n",
            "Epoch: 57, Loss: 0.030381709337234497\n",
            "Epoch: 58, Loss: 0.01057171355932951\n",
            "Epoch: 59, Loss: 0.24568429589271545\n",
            "Epoch: 60, Loss: 0.004568387754261494\n",
            "Epoch: 61, Loss: 0.008619723841547966\n",
            "Epoch: 62, Loss: 0.005516888108104467\n",
            "Epoch: 63, Loss: 0.004790772218257189\n",
            "Epoch: 64, Loss: 0.04970528930425644\n",
            "Epoch: 65, Loss: 0.005500560626387596\n",
            "Epoch: 66, Loss: 0.019685015082359314\n",
            "Epoch: 67, Loss: 0.0550571009516716\n",
            "Epoch: 68, Loss: 0.02744564414024353\n",
            "Epoch: 69, Loss: 0.0024704819079488516\n",
            "Epoch: 70, Loss: 0.006119235418736935\n",
            "Epoch: 71, Loss: 0.007031383458524942\n",
            "Epoch: 72, Loss: 0.005406882148236036\n",
            "Epoch: 73, Loss: 0.03647350147366524\n",
            "Epoch: 74, Loss: 0.04225305840373039\n",
            "Epoch: 75, Loss: 0.009862232021987438\n",
            "Epoch: 76, Loss: 0.013261349871754646\n",
            "Epoch: 77, Loss: 0.0030153056140989065\n",
            "Epoch: 78, Loss: 0.0017800296191126108\n",
            "Epoch: 79, Loss: 0.00463984627276659\n",
            "Epoch: 80, Loss: 0.005439769010990858\n",
            "Epoch: 81, Loss: 0.010652502067387104\n",
            "Epoch: 82, Loss: 0.0016076675383374095\n",
            "Epoch: 83, Loss: 0.011482824571430683\n",
            "Epoch: 84, Loss: 0.0032745099160820246\n",
            "Epoch: 85, Loss: 0.0022340575233101845\n",
            "Epoch: 86, Loss: 0.00395714957267046\n",
            "Epoch: 87, Loss: 0.001718843705020845\n",
            "Epoch: 88, Loss: 0.0020601896103471518\n",
            "Epoch: 89, Loss: 0.00255798758007586\n",
            "Epoch: 90, Loss: 0.0030348733998835087\n",
            "Epoch: 91, Loss: 0.001092642662115395\n",
            "Epoch: 92, Loss: 0.0014069372555240989\n",
            "Epoch: 93, Loss: 0.000702160585206002\n",
            "Epoch: 94, Loss: 0.0011794120073318481\n",
            "Epoch: 95, Loss: 0.0014055005740374327\n",
            "Epoch: 96, Loss: 0.0003108284145127982\n",
            "Epoch: 97, Loss: 0.00026785850059241056\n",
            "Epoch: 98, Loss: 0.0005221692845225334\n",
            "Epoch: 99, Loss: 0.002072044415399432\n",
            "Epoch: 100, Loss: 0.005258888006210327\n"
          ],
          "name": "stdout"
        }
      ]
    },
    {
      "cell_type": "code",
      "metadata": {
        "colab": {
          "base_uri": "https://localhost:8080/"
        },
        "id": "u661tYOi2IJq",
        "outputId": "17266f3d-b03b-4e01-a784-931243a555c3"
      },
      "source": [
        "#nn.CrossEntropyLoss is the combination of  nn.NLLLoss and nn.LogSoftmax\n",
        "## dropping nn.logsoftmax and nn.nllloss\n",
        "\n",
        "import torch.optim as optim\n",
        "model = nn.Sequential(\n",
        "    nn.Linear(3072, 1024), \n",
        "    nn.Tanh(), \n",
        "    nn.Linear(1024, 512),\n",
        "    nn.Tanh(), \n",
        "    nn.Linear(512, 128),\n",
        "    nn.Tanh(), \n",
        "    nn.Linear(128, 2),\n",
        ")\n",
        "\n",
        "loss_fn = nn.CrossEntropyLoss()\n",
        "optimizer = optim.SGD(model.parameters(), lr = 1e-2)\n",
        "n_epoch = 100\n",
        "for epoch in range(1, n_epoch + 1):\n",
        "  for img, labels in train_loader:\n",
        "    batch = img.shape[0]\n",
        "    output = model(img.reshape(batch, -1))\n",
        "    loss = loss_fn(output, labels)\n",
        "    optimizer.zero_grad()\n",
        "    loss.backward()\n",
        "    optimizer.step()\n",
        "\n",
        "  print(f\"Epoch: {epoch}, Loss: {loss}\")"
      ],
      "execution_count": null,
      "outputs": [
        {
          "output_type": "stream",
          "text": [
            "Epoch: 1, Loss: 0.4290717542171478\n",
            "Epoch: 2, Loss: 0.3146584630012512\n",
            "Epoch: 3, Loss: 0.4815136790275574\n",
            "Epoch: 4, Loss: 0.5561912059783936\n",
            "Epoch: 5, Loss: 0.5406140089035034\n",
            "Epoch: 6, Loss: 0.5015192031860352\n",
            "Epoch: 7, Loss: 0.5469209551811218\n",
            "Epoch: 8, Loss: 0.46054917573928833\n",
            "Epoch: 9, Loss: 0.529156506061554\n",
            "Epoch: 10, Loss: 0.3507245182991028\n",
            "Epoch: 11, Loss: 0.4726448655128479\n",
            "Epoch: 12, Loss: 0.30455437302589417\n",
            "Epoch: 13, Loss: 0.15764263272285461\n",
            "Epoch: 14, Loss: 0.5325130224227905\n",
            "Epoch: 15, Loss: 0.3095312714576721\n",
            "Epoch: 16, Loss: 0.46506208181381226\n",
            "Epoch: 17, Loss: 0.22223176062107086\n",
            "Epoch: 18, Loss: 0.4735187590122223\n",
            "Epoch: 19, Loss: 0.471488893032074\n",
            "Epoch: 20, Loss: 0.4287489056587219\n",
            "Epoch: 21, Loss: 0.22128337621688843\n",
            "Epoch: 22, Loss: 0.1726902425289154\n",
            "Epoch: 23, Loss: 0.204303577542305\n",
            "Epoch: 24, Loss: 0.17233721911907196\n",
            "Epoch: 25, Loss: 0.2571253478527069\n",
            "Epoch: 26, Loss: 0.15547926723957062\n",
            "Epoch: 27, Loss: 0.3742178976535797\n",
            "Epoch: 28, Loss: 0.11283000558614731\n",
            "Epoch: 29, Loss: 0.34876224398612976\n",
            "Epoch: 30, Loss: 0.15514682233333588\n",
            "Epoch: 31, Loss: 0.05027421563863754\n",
            "Epoch: 32, Loss: 0.5196104049682617\n",
            "Epoch: 33, Loss: 0.09195926040410995\n",
            "Epoch: 34, Loss: 0.10011256486177444\n",
            "Epoch: 35, Loss: 0.16823583841323853\n",
            "Epoch: 36, Loss: 0.11759377270936966\n",
            "Epoch: 37, Loss: 0.032868050038814545\n",
            "Epoch: 38, Loss: 0.19811810553073883\n",
            "Epoch: 39, Loss: 0.06824721395969391\n",
            "Epoch: 40, Loss: 0.13718093931674957\n",
            "Epoch: 41, Loss: 0.07016204297542572\n",
            "Epoch: 42, Loss: 0.15699434280395508\n",
            "Epoch: 43, Loss: 0.3324735462665558\n",
            "Epoch: 44, Loss: 0.07135111093521118\n",
            "Epoch: 45, Loss: 0.11531952768564224\n",
            "Epoch: 46, Loss: 0.018089385703206062\n",
            "Epoch: 47, Loss: 0.037911269813776016\n",
            "Epoch: 48, Loss: 0.027127226814627647\n",
            "Epoch: 49, Loss: 0.3250657618045807\n",
            "Epoch: 50, Loss: 0.23637841641902924\n",
            "Epoch: 51, Loss: 0.15181411802768707\n",
            "Epoch: 52, Loss: 0.01044511329382658\n",
            "Epoch: 53, Loss: 0.040112052112817764\n",
            "Epoch: 54, Loss: 0.016414543613791466\n",
            "Epoch: 55, Loss: 0.042603619396686554\n",
            "Epoch: 56, Loss: 0.015069104731082916\n",
            "Epoch: 57, Loss: 0.12259798496961594\n",
            "Epoch: 58, Loss: 0.03673144429922104\n",
            "Epoch: 59, Loss: 0.045521847903728485\n",
            "Epoch: 60, Loss: 0.00423609372228384\n",
            "Epoch: 61, Loss: 0.1584140509366989\n",
            "Epoch: 62, Loss: 0.05920305475592613\n",
            "Epoch: 63, Loss: 0.05016017332673073\n",
            "Epoch: 64, Loss: 0.01868627220392227\n",
            "Epoch: 65, Loss: 0.006646134424954653\n",
            "Epoch: 66, Loss: 0.01517643965780735\n",
            "Epoch: 67, Loss: 0.026964114978909492\n",
            "Epoch: 68, Loss: 0.0173808503895998\n",
            "Epoch: 69, Loss: 0.01448323205113411\n",
            "Epoch: 70, Loss: 0.009555986151099205\n",
            "Epoch: 71, Loss: 0.0053764707408845425\n",
            "Epoch: 72, Loss: 0.0018805133877322078\n",
            "Epoch: 73, Loss: 0.0054585495963692665\n",
            "Epoch: 74, Loss: 0.0027277336921542883\n",
            "Epoch: 75, Loss: 0.005347747355699539\n",
            "Epoch: 76, Loss: 0.0012441667495295405\n",
            "Epoch: 77, Loss: 0.005713832564651966\n",
            "Epoch: 78, Loss: 0.003643181174993515\n",
            "Epoch: 79, Loss: 0.006422456819564104\n",
            "Epoch: 80, Loss: 0.003410720732063055\n",
            "Epoch: 81, Loss: 0.012321015819907188\n",
            "Epoch: 82, Loss: 0.005028017796576023\n",
            "Epoch: 83, Loss: 0.009259632788598537\n",
            "Epoch: 84, Loss: 0.0026760317850857973\n",
            "Epoch: 85, Loss: 0.006462971214205027\n",
            "Epoch: 86, Loss: 0.002689056796953082\n",
            "Epoch: 87, Loss: 0.005700766574591398\n",
            "Epoch: 88, Loss: 0.001660801935940981\n",
            "Epoch: 89, Loss: 0.00041715145925991237\n",
            "Epoch: 90, Loss: 0.0009231572039425373\n",
            "Epoch: 91, Loss: 0.0018546127248555422\n",
            "Epoch: 92, Loss: 0.0023809466511011124\n",
            "Epoch: 93, Loss: 0.07780053466558456\n",
            "Epoch: 94, Loss: 0.012781032361090183\n",
            "Epoch: 95, Loss: 0.0027954273391515017\n",
            "Epoch: 96, Loss: 0.0036465476732701063\n",
            "Epoch: 97, Loss: 0.0005749216652475297\n",
            "Epoch: 98, Loss: 0.0016529764980077744\n",
            "Epoch: 99, Loss: 0.00019270009943284094\n",
            "Epoch: 100, Loss: 0.00742943724617362\n"
          ],
          "name": "stdout"
        }
      ]
    },
    {
      "cell_type": "code",
      "metadata": {
        "colab": {
          "base_uri": "https://localhost:8080/"
        },
        "id": "bE0VB_VM4g-L",
        "outputId": "b6b93194-6673-46a8-ca4a-55e61b72aef7"
      },
      "source": [
        "val_loader = torch.utils.data.DataLoader(cifar2_val, batch_size = 64, shuffle = False)\n",
        "\n",
        "total  =0\n",
        "correct = 0\n",
        "with torch.no_grad():\n",
        "  for imgs, labels in val_loader:\n",
        "    batch = imgs.shape[0]\n",
        "    outputs = model(imgs.view(batch, -1))\n",
        "    _, predicted = torch.max(outputs, dim = 1)  ## returns valu and index of the max in the list\n",
        "    total += labels.shape[0]\n",
        "    correct += int((predicted == labels).sum())\n",
        "\n",
        "  print('Accuracy_test: %f' %(correct / total))\n",
        "\n",
        "  \n",
        "total  =0\n",
        "correct = 0\n",
        "with torch.no_grad():\n",
        "  for imgs, labels in train_loader:\n",
        "    batch = imgs.shape[0]\n",
        "    outputs = model(imgs.view(batch, -1))\n",
        "    _, predicted = torch.max(outputs, dim = 1)  ## returns valu and index of the max in the list\n",
        "    total += labels.shape[0]\n",
        "    correct += int((predicted == labels).sum())\n",
        "\n",
        "  print('Accuracy _Train: %f' %(correct / total))"
      ],
      "execution_count": null,
      "outputs": [
        {
          "output_type": "stream",
          "text": [
            "Accuracy_test: 0.810000\n",
            "Accuracy _Train: 1.000000\n"
          ],
          "name": "stdout"
        }
      ]
    },
    {
      "cell_type": "code",
      "metadata": {
        "id": "PO2U_f2T61V8"
      },
      "source": [
        "##checking the number of elements in the model parameters\n",
        "numel_list = [p.numel() for p in model.parameters() if p.requires_grad == True]"
      ],
      "execution_count": null,
      "outputs": []
    },
    {
      "cell_type": "code",
      "metadata": {
        "colab": {
          "base_uri": "https://localhost:8080/"
        },
        "id": "4ZqIG0qg7T1Q",
        "outputId": "32987fa1-679e-48e7-c28d-f2e9abb83019"
      },
      "source": [
        "sum(numel_list), numel_list"
      ],
      "execution_count": null,
      "outputs": [
        {
          "output_type": "execute_result",
          "data": {
            "text/plain": [
              "(3737474, [3145728, 1024, 524288, 512, 65536, 128, 256, 2])"
            ]
          },
          "metadata": {
            "tags": []
          },
          "execution_count": 85
        }
      ]
    },
    {
      "cell_type": "markdown",
      "metadata": {
        "id": "KlHV-vxw7kTP"
      },
      "source": [
        "The above result shows that we have a lot of parameter (3million+)"
      ]
    },
    {
      "cell_type": "code",
      "metadata": {
        "id": "zWImudhA7YlO"
      },
      "source": [
        ""
      ],
      "execution_count": null,
      "outputs": []
    }
  ]
}