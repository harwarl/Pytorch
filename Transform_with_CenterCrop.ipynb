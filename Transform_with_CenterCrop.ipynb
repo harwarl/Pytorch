{
  "nbformat": 4,
  "nbformat_minor": 0,
  "metadata": {
    "colab": {
      "name": "Transform with CenterCrop.ipynb",
      "provenance": [],
      "authorship_tag": "ABX9TyMgiQtiRJvlT1u2X2bLDgb2",
      "include_colab_link": true
    },
    "kernelspec": {
      "name": "python3",
      "display_name": "Python 3"
    }
  },
  "cells": [
    {
      "cell_type": "markdown",
      "metadata": {
        "id": "view-in-github",
        "colab_type": "text"
      },
      "source": [
        "<a href=\"https://colab.research.google.com/github/harwarl/Pytorch/blob/main/Transform_with_CenterCrop.ipynb\" target=\"_parent\"><img src=\"https://colab.research.google.com/assets/colab-badge.svg\" alt=\"Open In Colab\"/></a>"
      ]
    },
    {
      "cell_type": "code",
      "metadata": {
        "id": "R8RPgAW3fg1p"
      },
      "source": [
        "import torch\n",
        "from torchvision import datasets\n",
        "from torchvision import transforms\n",
        "import matplotlib.pyplot as plt"
      ],
      "execution_count": 1,
      "outputs": []
    },
    {
      "cell_type": "code",
      "metadata": {
        "colab": {
          "base_uri": "https://localhost:8080/"
        },
        "id": "bW0dUyeAf5X9",
        "outputId": "d33099b9-6ce1-4c46-9a85-ef1e54115471"
      },
      "source": [
        "dir(transforms)"
      ],
      "execution_count": 2,
      "outputs": [
        {
          "output_type": "execute_result",
          "data": {
            "text/plain": [
              "['CenterCrop',\n",
              " 'ColorJitter',\n",
              " 'Compose',\n",
              " 'ConvertImageDtype',\n",
              " 'FiveCrop',\n",
              " 'GaussianBlur',\n",
              " 'Grayscale',\n",
              " 'Lambda',\n",
              " 'LinearTransformation',\n",
              " 'Normalize',\n",
              " 'PILToTensor',\n",
              " 'Pad',\n",
              " 'RandomAffine',\n",
              " 'RandomApply',\n",
              " 'RandomChoice',\n",
              " 'RandomCrop',\n",
              " 'RandomErasing',\n",
              " 'RandomGrayscale',\n",
              " 'RandomHorizontalFlip',\n",
              " 'RandomOrder',\n",
              " 'RandomPerspective',\n",
              " 'RandomResizedCrop',\n",
              " 'RandomRotation',\n",
              " 'RandomSizedCrop',\n",
              " 'RandomVerticalFlip',\n",
              " 'Resize',\n",
              " 'Scale',\n",
              " 'TenCrop',\n",
              " 'ToPILImage',\n",
              " 'ToTensor',\n",
              " '__builtins__',\n",
              " '__cached__',\n",
              " '__doc__',\n",
              " '__file__',\n",
              " '__loader__',\n",
              " '__name__',\n",
              " '__package__',\n",
              " '__path__',\n",
              " '__spec__',\n",
              " 'functional',\n",
              " 'functional_pil',\n",
              " 'functional_tensor',\n",
              " 'transforms']"
            ]
          },
          "metadata": {
            "tags": []
          },
          "execution_count": 2
        }
      ]
    },
    {
      "cell_type": "code",
      "metadata": {
        "colab": {
          "base_uri": "https://localhost:8080/",
          "height": 35
        },
        "id": "vDamQJJvgdEB",
        "outputId": "16dda0fc-0320-42d9-da49-9cd638f26f33"
      },
      "source": [
        "pwd"
      ],
      "execution_count": 3,
      "outputs": [
        {
          "output_type": "execute_result",
          "data": {
            "application/vnd.google.colaboratory.intrinsic+json": {
              "type": "string"
            },
            "text/plain": [
              "'/content'"
            ]
          },
          "metadata": {
            "tags": []
          },
          "execution_count": 3
        }
      ]
    },
    {
      "cell_type": "code",
      "metadata": {
        "colab": {
          "base_uri": "https://localhost:8080/"
        },
        "id": "GO2em9Cvf-UK",
        "outputId": "9175c6c6-a805-4853-ab25-31278b6c3f02"
      },
      "source": [
        "data_path = \"/content/\"\n",
        "cif_10 = datasets.CIFAR10(data_path, train = True, download = True, transform = transforms.ToTensor())"
      ],
      "execution_count": 4,
      "outputs": [
        {
          "output_type": "stream",
          "text": [
            "Files already downloaded and verified\n"
          ],
          "name": "stdout"
        }
      ]
    },
    {
      "cell_type": "code",
      "metadata": {
        "id": "WSB7uuMVgcMG"
      },
      "source": [
        "imgs = torch.stack([img for img, label in cif_10], dim = 3)"
      ],
      "execution_count": 5,
      "outputs": []
    },
    {
      "cell_type": "code",
      "metadata": {
        "colab": {
          "base_uri": "https://localhost:8080/"
        },
        "id": "xQsIvOqBg2Po",
        "outputId": "726d6ddb-3d05-4f83-bddc-4bb1c476acdc"
      },
      "source": [
        "imgs.shape"
      ],
      "execution_count": 6,
      "outputs": [
        {
          "output_type": "execute_result",
          "data": {
            "text/plain": [
              "torch.Size([3, 32, 32, 50000])"
            ]
          },
          "metadata": {
            "tags": []
          },
          "execution_count": 6
        }
      ]
    },
    {
      "cell_type": "code",
      "metadata": {
        "id": "X0gut6Czg3VD"
      },
      "source": [
        "mean = torch.mean(imgs.reshape(3, -1), dim = 1)\n",
        "std = torch.std(imgs.reshape(3, -1), dim = 1)"
      ],
      "execution_count": 7,
      "outputs": []
    },
    {
      "cell_type": "code",
      "metadata": {
        "colab": {
          "base_uri": "https://localhost:8080/"
        },
        "id": "JBlmKXLYhQkx",
        "outputId": "3dc339e1-f3bd-4e8d-f59f-7a19cfae9bdb"
      },
      "source": [
        "print(mean)\n",
        "print(std)"
      ],
      "execution_count": 8,
      "outputs": [
        {
          "output_type": "stream",
          "text": [
            "tensor([0.4914, 0.4822, 0.4465])\n",
            "tensor([0.2470, 0.2435, 0.2616])\n"
          ],
          "name": "stdout"
        }
      ]
    },
    {
      "cell_type": "code",
      "metadata": {
        "colab": {
          "base_uri": "https://localhost:8080/"
        },
        "id": "REm_JgjRh_Oj",
        "outputId": "aeeaa4ee-cc72-49c5-e713-521c7b98a71d"
      },
      "source": [
        "transforms.Normalize([0.4914, 0.4822, 0.4465], [0.2470, 0.2435, 0.2616])"
      ],
      "execution_count": 9,
      "outputs": [
        {
          "output_type": "execute_result",
          "data": {
            "text/plain": [
              "Normalize(mean=[0.4914, 0.4822, 0.4465], std=[0.247, 0.2435, 0.2616])"
            ]
          },
          "metadata": {
            "tags": []
          },
          "execution_count": 9
        }
      ]
    },
    {
      "cell_type": "code",
      "metadata": {
        "colab": {
          "base_uri": "https://localhost:8080/"
        },
        "id": "HJu7Z66SiRRh",
        "outputId": "291c813a-07a5-4275-ee65-ced202f38802"
      },
      "source": [
        "cif_10 = datasets.CIFAR10(data_path, train = True, download = True, transform= transforms.Compose([\n",
        "                                                                                                  transforms.CenterCrop(30),\n",
        "                                                                                                  transforms.ToTensor(),\n",
        "                                                                                                  transforms.Normalize((0.4914, 0.4822, 0.4465),\n",
        "                                                                                                                       (0.247, 0.2435, 0.2616))\n",
        "]))\n",
        "cif_10_val = datasets.CIFAR10(data_path, train = False, download = True, transform= transforms.Compose([\n",
        "                                                                                                  transforms.CenterCrop(30),\n",
        "                                                                                                  transforms.ToTensor(),\n",
        "                                                                                                  transforms.Normalize((0.4914, 0.4822, 0.4465),\n",
        "                                                                                                                       (0.247, 0.2435, 0.2616))\n",
        "]))\n"
      ],
      "execution_count": 10,
      "outputs": [
        {
          "output_type": "stream",
          "text": [
            "Files already downloaded and verified\n",
            "Files already downloaded and verified\n"
          ],
          "name": "stdout"
        }
      ]
    },
    {
      "cell_type": "code",
      "metadata": {
        "id": "Mx2nYsn3jmZH"
      },
      "source": [
        "img, _ = cif_10[0]"
      ],
      "execution_count": 11,
      "outputs": []
    },
    {
      "cell_type": "code",
      "metadata": {
        "colab": {
          "base_uri": "https://localhost:8080/"
        },
        "id": "KtBlzYMTjt1A",
        "outputId": "5844b408-4d0e-406b-bfb5-59ef1bccd2db"
      },
      "source": [
        "img.shape"
      ],
      "execution_count": 12,
      "outputs": [
        {
          "output_type": "execute_result",
          "data": {
            "text/plain": [
              "torch.Size([3, 30, 30])"
            ]
          },
          "metadata": {
            "tags": []
          },
          "execution_count": 12
        }
      ]
    },
    {
      "cell_type": "code",
      "metadata": {
        "colab": {
          "base_uri": "https://localhost:8080/",
          "height": 283
        },
        "id": "dSNsqyvYjvXf",
        "outputId": "dd7a4e40-0c62-44d5-dcf9-93cceb80cc4d"
      },
      "source": [
        "plt.imshow(img.permute(1, 2, 0))\n",
        "plt.show()"
      ],
      "execution_count": 13,
      "outputs": [
        {
          "output_type": "stream",
          "text": [
            "Clipping input data to the valid range for imshow with RGB data ([0..1] for floats or [0..255] for integers).\n"
          ],
          "name": "stderr"
        },
        {
          "output_type": "display_data",
          "data": {
            "image/png": "[encoded data removed]",
            "text/plain": [
              "<Figure size 432x288 with 1 Axes>"
            ]
          },
          "metadata": {
            "tags": [],
            "needs_background": "light"
          }
        }
      ]
    },
    {
      "cell_type": "code",
      "metadata": {
        "colab": {
          "base_uri": "https://localhost:8080/",
          "height": 283
        },
        "id": "WC_Bk8YekI_R",
        "outputId": "4a8ffa79-b05f-4859-eb89-cd766fe2f100"
      },
      "source": [
        "img, _ = cif_10[777]\n",
        "plt.imshow(img.permute(1, 2, 0))\n",
        "plt.show()"
      ],
      "execution_count": 17,
      "outputs": [
        {
          "output_type": "stream",
          "text": [
            "Clipping input data to the valid range for imshow with RGB data ([0..1] for floats or [0..255] for integers).\n"
          ],
          "name": "stderr"
        },
        {
          "output_type": "display_data",
          "data": {
            "image/png": "[encoded data removed]",
            "text/plain": [
              "<Figure size 432x288 with 1 Axes>"
            ]
          },
          "metadata": {
            "tags": [],
            "needs_background": "light"
          }
        }
      ]
    },
    {
      "cell_type": "code",
      "metadata": {
        "id": "i7rY0uo0lTnL"
      },
      "source": [
        "label_map = {0:0, 2:1}\n",
        "class_label = ['aeroplane', 'bird']\n",
        "Train = [(img, label_map[label]) for img, label in cif_10 if label in [0, 2]]\n",
        "Valid = [(img, label_map[label]) for img, label in cif_10_val if label in [0, 2]]"
      ],
      "execution_count": 20,
      "outputs": []
    },
    {
      "cell_type": "code",
      "metadata": {
        "colab": {
          "base_uri": "https://localhost:8080/"
        },
        "id": "pqzI9cW6maeG",
        "outputId": "59b583a8-215d-4084-b460-ccf529e7651a"
      },
      "source": [
        "img, _ = Train[10]\n",
        "img.shape"
      ],
      "execution_count": 22,
      "outputs": [
        {
          "output_type": "execute_result",
          "data": {
            "text/plain": [
              "torch.Size([3, 30, 30])"
            ]
          },
          "metadata": {
            "tags": []
          },
          "execution_count": 22
        }
      ]
    },
    {
      "cell_type": "code",
      "metadata": {
        "id": "G7xYXcImmtmq"
      },
      "source": [
        "train_loader = torch.utils.data.DataLoader(Train, batch_size = 50, shuffle = True)\n",
        "val_loader = torch.utils.data.DataLoader(Valid, batch_size= 50, shuffle = False)\n"
      ],
      "execution_count": 23,
      "outputs": []
    },
    {
      "cell_type": "code",
      "metadata": {
        "id": "vhTrUsRPn1hr"
      },
      "source": [
        "import torch.optim as optim\n",
        "import torch.nn as nn "
      ],
      "execution_count": 24,
      "outputs": []
    },
    {
      "cell_type": "code",
      "metadata": {
        "colab": {
          "base_uri": "https://localhost:8080/"
        },
        "id": "b61CStAhotOq",
        "outputId": "55c52335-f794-464d-cd8d-1c9e5c6a6c25"
      },
      "source": [
        "img.reshape(-1).unsqueeze(0).shape"
      ],
      "execution_count": 26,
      "outputs": [
        {
          "output_type": "execute_result",
          "data": {
            "text/plain": [
              "torch.Size([1, 2700])"
            ]
          },
          "metadata": {
            "tags": []
          },
          "execution_count": 26
        }
      ]
    },
    {
      "cell_type": "code",
      "metadata": {
        "id": "LkaO0WVXpnhr"
      },
      "source": [
        "dir(nn)"
      ],
      "execution_count": null,
      "outputs": []
    },
    {
      "cell_type": "code",
      "metadata": {
        "colab": {
          "base_uri": "https://localhost:8080/"
        },
        "id": "gY0K5xGjoLbG",
        "outputId": "f59030c6-ad6e-4d6c-c19e-4b679b4e6302"
      },
      "source": [
        "model = nn.Sequential(\n",
        "    nn.Linear(2700, 128),\n",
        "    nn.Tanh(),\n",
        "    nn.Linear(128, 64),\n",
        "    nn.Tanh(),\n",
        "    nn.Linear(64, 2),\n",
        "    nn.Softmax(dim = 1)\n",
        ")\n",
        "\n",
        "optimizer = optim.SGD(model.parameters(), lr = 1e-2)\n",
        "loss_fn = nn.CrossEntropyLoss()\n",
        "n_epochs = 100\n",
        "for epoch in range(1, n_epochs + 1):\n",
        "  for img, labels in train_loader:\n",
        "    batch = img.shape[0]\n",
        "    output = model(img.reshape(batch, -1))\n",
        "    loss = loss_fn(output, labels)\n",
        "\n",
        "    optimizer.zero_grad()\n",
        "    loss.backward()\n",
        "    optimizer.step()\n",
        "\n",
        "  print(f\"Epoch: {epoch}, Training_Loss: {loss}\")"
      ],
      "execution_count": 34,
      "outputs": [
        {
          "output_type": "stream",
          "text": [
            "Epoch: 1, Training_Loss: 0.5238345265388489\n",
            "Epoch: 2, Training_Loss: 0.5477621555328369\n",
            "Epoch: 3, Training_Loss: 0.5293139219284058\n",
            "Epoch: 4, Training_Loss: 0.5727030038833618\n",
            "Epoch: 5, Training_Loss: 0.5159861445426941\n",
            "Epoch: 6, Training_Loss: 0.5189054012298584\n",
            "Epoch: 7, Training_Loss: 0.4811580777168274\n",
            "Epoch: 8, Training_Loss: 0.5376347303390503\n",
            "Epoch: 9, Training_Loss: 0.5432723760604858\n",
            "Epoch: 10, Training_Loss: 0.4694521427154541\n",
            "Epoch: 11, Training_Loss: 0.5199769735336304\n",
            "Epoch: 12, Training_Loss: 0.43713417649269104\n",
            "Epoch: 13, Training_Loss: 0.4859320819377899\n",
            "Epoch: 14, Training_Loss: 0.5330411791801453\n",
            "Epoch: 15, Training_Loss: 0.4821782410144806\n",
            "Epoch: 16, Training_Loss: 0.4761878550052643\n",
            "Epoch: 17, Training_Loss: 0.42981669306755066\n",
            "Epoch: 18, Training_Loss: 0.519975483417511\n",
            "Epoch: 19, Training_Loss: 0.54617840051651\n",
            "Epoch: 20, Training_Loss: 0.5215085744857788\n",
            "Epoch: 21, Training_Loss: 0.5113666653633118\n",
            "Epoch: 22, Training_Loss: 0.4978198707103729\n",
            "Epoch: 23, Training_Loss: 0.5015122890472412\n",
            "Epoch: 24, Training_Loss: 0.48482322692871094\n",
            "Epoch: 25, Training_Loss: 0.4733591079711914\n",
            "Epoch: 26, Training_Loss: 0.4210456609725952\n",
            "Epoch: 27, Training_Loss: 0.4525409936904907\n",
            "Epoch: 28, Training_Loss: 0.41950225830078125\n",
            "Epoch: 29, Training_Loss: 0.43648406863212585\n",
            "Epoch: 30, Training_Loss: 0.4280976951122284\n",
            "Epoch: 31, Training_Loss: 0.4034688174724579\n",
            "Epoch: 32, Training_Loss: 0.4504566192626953\n",
            "Epoch: 33, Training_Loss: 0.4699423909187317\n",
            "Epoch: 34, Training_Loss: 0.4721134603023529\n",
            "Epoch: 35, Training_Loss: 0.4250238835811615\n",
            "Epoch: 36, Training_Loss: 0.46840766072273254\n",
            "Epoch: 37, Training_Loss: 0.42582350969314575\n",
            "Epoch: 38, Training_Loss: 0.384114146232605\n",
            "Epoch: 39, Training_Loss: 0.492422878742218\n",
            "Epoch: 40, Training_Loss: 0.4682735800743103\n",
            "Epoch: 41, Training_Loss: 0.4618397057056427\n",
            "Epoch: 42, Training_Loss: 0.3929445147514343\n",
            "Epoch: 43, Training_Loss: 0.49582546949386597\n",
            "Epoch: 44, Training_Loss: 0.3876085579395294\n",
            "Epoch: 45, Training_Loss: 0.4157532751560211\n",
            "Epoch: 46, Training_Loss: 0.45154517889022827\n",
            "Epoch: 47, Training_Loss: 0.4111912250518799\n",
            "Epoch: 48, Training_Loss: 0.4239116907119751\n",
            "Epoch: 49, Training_Loss: 0.4283468723297119\n",
            "Epoch: 50, Training_Loss: 0.409432977437973\n",
            "Epoch: 51, Training_Loss: 0.4295857548713684\n",
            "Epoch: 52, Training_Loss: 0.4350942373275757\n",
            "Epoch: 53, Training_Loss: 0.43353262543678284\n",
            "Epoch: 54, Training_Loss: 0.36426597833633423\n",
            "Epoch: 55, Training_Loss: 0.45004725456237793\n",
            "Epoch: 56, Training_Loss: 0.40959975123405457\n",
            "Epoch: 57, Training_Loss: 0.3877566158771515\n",
            "Epoch: 58, Training_Loss: 0.38283348083496094\n",
            "Epoch: 59, Training_Loss: 0.42861583828926086\n",
            "Epoch: 60, Training_Loss: 0.47281867265701294\n",
            "Epoch: 61, Training_Loss: 0.385941743850708\n",
            "Epoch: 62, Training_Loss: 0.37208279967308044\n",
            "Epoch: 63, Training_Loss: 0.3918154835700989\n",
            "Epoch: 64, Training_Loss: 0.40226876735687256\n",
            "Epoch: 65, Training_Loss: 0.4168711006641388\n",
            "Epoch: 66, Training_Loss: 0.3394223749637604\n",
            "Epoch: 67, Training_Loss: 0.4181596338748932\n",
            "Epoch: 68, Training_Loss: 0.3848709762096405\n",
            "Epoch: 69, Training_Loss: 0.3588544726371765\n",
            "Epoch: 70, Training_Loss: 0.4009518027305603\n",
            "Epoch: 71, Training_Loss: 0.3785092532634735\n",
            "Epoch: 72, Training_Loss: 0.37688183784484863\n",
            "Epoch: 73, Training_Loss: 0.3698961138725281\n",
            "Epoch: 74, Training_Loss: 0.4230548143386841\n",
            "Epoch: 75, Training_Loss: 0.4065415859222412\n",
            "Epoch: 76, Training_Loss: 0.4440992772579193\n",
            "Epoch: 77, Training_Loss: 0.3768891394138336\n",
            "Epoch: 78, Training_Loss: 0.40384379029273987\n",
            "Epoch: 79, Training_Loss: 0.3843299448490143\n",
            "Epoch: 80, Training_Loss: 0.3390748202800751\n",
            "Epoch: 81, Training_Loss: 0.3407963216304779\n",
            "Epoch: 82, Training_Loss: 0.41089367866516113\n",
            "Epoch: 83, Training_Loss: 0.3593260645866394\n",
            "Epoch: 84, Training_Loss: 0.38067626953125\n",
            "Epoch: 85, Training_Loss: 0.3392646908760071\n",
            "Epoch: 86, Training_Loss: 0.3418225944042206\n",
            "Epoch: 87, Training_Loss: 0.3702220618724823\n",
            "Epoch: 88, Training_Loss: 0.37875938415527344\n",
            "Epoch: 89, Training_Loss: 0.3375683128833771\n",
            "Epoch: 90, Training_Loss: 0.4006006717681885\n",
            "Epoch: 91, Training_Loss: 0.33965110778808594\n",
            "Epoch: 92, Training_Loss: 0.3633943498134613\n",
            "Epoch: 93, Training_Loss: 0.39812713861465454\n",
            "Epoch: 94, Training_Loss: 0.3997052311897278\n",
            "Epoch: 95, Training_Loss: 0.41936585307121277\n",
            "Epoch: 96, Training_Loss: 0.3568597137928009\n",
            "Epoch: 97, Training_Loss: 0.35656729340553284\n",
            "Epoch: 98, Training_Loss: 0.37596824765205383\n",
            "Epoch: 99, Training_Loss: 0.3580201268196106\n",
            "Epoch: 100, Training_Loss: 0.3759711980819702\n"
          ],
          "name": "stdout"
        }
      ]
    },
    {
      "cell_type": "code",
      "metadata": {
        "colab": {
          "base_uri": "https://localhost:8080/"
        },
        "id": "bQSSbbuvrBSh",
        "outputId": "f6c39201-9a9a-48fb-c900-0872da431118"
      },
      "source": [
        "total = 0\n",
        "correct = 0\n",
        "\n",
        "with torch.no_grad():\n",
        "  for img, labels in val_loader:\n",
        "    batch = img.shape[0]\n",
        "    output = model(img.reshape(batch, -1))\n",
        "    _, predicted = torch.max(output, dim = 1)\n",
        "    total += labels.shape[0]\n",
        "    correct += int((predicted == labels).sum())\n",
        "\n",
        "  print('Test_Accuracy: %f'%(correct / total))\n",
        "\n",
        "  total = 0\n",
        "correct = 0\n",
        "\n",
        "with torch.no_grad():\n",
        "  for img, labels in train_loader:\n",
        "    batch = img.shape[0]\n",
        "    output = model(img.reshape(batch, -1))\n",
        "    _, predicted = torch.max(output, dim = 1)\n",
        "    total += labels.shape[0]\n",
        "    correct += int((predicted == labels).sum())\n",
        "\n",
        "  print('Train_Accuracy: %f'%(correct / total))"
      ],
      "execution_count": 59,
      "outputs": [
        {
          "output_type": "stream",
          "text": [
            "Test_Accuracy: 0.817500\n",
            "Train_Accuracy: 0.954600\n"
          ],
          "name": "stdout"
        }
      ]
    },
    {
      "cell_type": "code",
      "metadata": {
        "colab": {
          "base_uri": "https://localhost:8080/"
        },
        "id": "1IPITt0WuKuP",
        "outputId": "d72f60bf-f742-40b3-81dd-3a702c0e7dd8"
      },
      "source": [
        "model = nn.Sequential(\n",
        "    nn.Linear(2700, 1024),\n",
        "    nn.Tanh(),\n",
        "    nn.Linear(1024, 512),\n",
        "    nn.Tanh(),\n",
        "    nn.Linear(512, 64),\n",
        "    nn.Tanh(),\n",
        "    nn.Linear(64, 2),\n",
        "    nn.Softmax(dim = 1)\n",
        ")\n",
        "\n",
        "optimizer = optim.SGD(model.parameters(), lr = 1e-2)\n",
        "loss_fn = nn.CrossEntropyLoss()\n",
        "n_epochs = 100\n",
        "for epoch in range(1, n_epochs + 1):\n",
        "  for img, labels in train_loader:\n",
        "    batch = img.shape[0]\n",
        "    output = model(img.reshape(batch, -1))\n",
        "    loss = loss_fn(output, labels)\n",
        "\n",
        "    optimizer.zero_grad()\n",
        "    loss.backward()\n",
        "    optimizer.step()\n",
        "\n",
        "  print(f\"Epoch: {epoch}, Training_Loss: {loss}\")"
      ],
      "execution_count": 60,
      "outputs": [
        {
          "output_type": "stream",
          "text": [
            "Epoch: 1, Training_Loss: 0.5640178918838501\n",
            "Epoch: 2, Training_Loss: 0.586580753326416\n",
            "Epoch: 3, Training_Loss: 0.5639459490776062\n",
            "Epoch: 4, Training_Loss: 0.5113081336021423\n",
            "Epoch: 5, Training_Loss: 0.5340032577514648\n",
            "Epoch: 6, Training_Loss: 0.4794950783252716\n",
            "Epoch: 7, Training_Loss: 0.4623955488204956\n",
            "Epoch: 8, Training_Loss: 0.5178844332695007\n",
            "Epoch: 9, Training_Loss: 0.4585609436035156\n",
            "Epoch: 10, Training_Loss: 0.49199092388153076\n",
            "Epoch: 11, Training_Loss: 0.5442324280738831\n",
            "Epoch: 12, Training_Loss: 0.5168722867965698\n",
            "Epoch: 13, Training_Loss: 0.5450350046157837\n",
            "Epoch: 14, Training_Loss: 0.5465836524963379\n",
            "Epoch: 15, Training_Loss: 0.5129114389419556\n",
            "Epoch: 16, Training_Loss: 0.4413834810256958\n",
            "Epoch: 17, Training_Loss: 0.5947495102882385\n",
            "Epoch: 18, Training_Loss: 0.5068360567092896\n",
            "Epoch: 19, Training_Loss: 0.48645997047424316\n",
            "Epoch: 20, Training_Loss: 0.4778425097465515\n",
            "Epoch: 21, Training_Loss: 0.463077574968338\n",
            "Epoch: 22, Training_Loss: 0.4541630148887634\n",
            "Epoch: 23, Training_Loss: 0.580315887928009\n",
            "Epoch: 24, Training_Loss: 0.48298758268356323\n",
            "Epoch: 25, Training_Loss: 0.45504486560821533\n",
            "Epoch: 26, Training_Loss: 0.4422242343425751\n",
            "Epoch: 27, Training_Loss: 0.4585677981376648\n",
            "Epoch: 28, Training_Loss: 0.4517430365085602\n",
            "Epoch: 29, Training_Loss: 0.37408745288848877\n",
            "Epoch: 30, Training_Loss: 0.46366918087005615\n",
            "Epoch: 31, Training_Loss: 0.43231332302093506\n",
            "Epoch: 32, Training_Loss: 0.38179412484169006\n",
            "Epoch: 33, Training_Loss: 0.4236443340778351\n",
            "Epoch: 34, Training_Loss: 0.4863547086715698\n",
            "Epoch: 35, Training_Loss: 0.4128822684288025\n",
            "Epoch: 36, Training_Loss: 0.41582462191581726\n",
            "Epoch: 37, Training_Loss: 0.45458000898361206\n",
            "Epoch: 38, Training_Loss: 0.4718552827835083\n",
            "Epoch: 39, Training_Loss: 0.42621666193008423\n",
            "Epoch: 40, Training_Loss: 0.4152243733406067\n",
            "Epoch: 41, Training_Loss: 0.4237513840198517\n",
            "Epoch: 42, Training_Loss: 0.4620952904224396\n",
            "Epoch: 43, Training_Loss: 0.4505162537097931\n",
            "Epoch: 44, Training_Loss: 0.47524958848953247\n",
            "Epoch: 45, Training_Loss: 0.4486028254032135\n",
            "Epoch: 46, Training_Loss: 0.3699771761894226\n",
            "Epoch: 47, Training_Loss: 0.3827632963657379\n",
            "Epoch: 48, Training_Loss: 0.37662747502326965\n",
            "Epoch: 49, Training_Loss: 0.3986249268054962\n",
            "Epoch: 50, Training_Loss: 0.38422462344169617\n",
            "Epoch: 51, Training_Loss: 0.4458181858062744\n",
            "Epoch: 52, Training_Loss: 0.4037764370441437\n",
            "Epoch: 53, Training_Loss: 0.4182951748371124\n",
            "Epoch: 54, Training_Loss: 0.38981011509895325\n",
            "Epoch: 55, Training_Loss: 0.4136335849761963\n",
            "Epoch: 56, Training_Loss: 0.43516746163368225\n",
            "Epoch: 57, Training_Loss: 0.3918245732784271\n",
            "Epoch: 58, Training_Loss: 0.426413357257843\n",
            "Epoch: 59, Training_Loss: 0.41517704725265503\n",
            "Epoch: 60, Training_Loss: 0.3842434287071228\n",
            "Epoch: 61, Training_Loss: 0.3689749538898468\n",
            "Epoch: 62, Training_Loss: 0.39019787311553955\n",
            "Epoch: 63, Training_Loss: 0.3505280017852783\n",
            "Epoch: 64, Training_Loss: 0.36323755979537964\n",
            "Epoch: 65, Training_Loss: 0.33800315856933594\n",
            "Epoch: 66, Training_Loss: 0.35459208488464355\n",
            "Epoch: 67, Training_Loss: 0.4434986412525177\n",
            "Epoch: 68, Training_Loss: 0.3983594477176666\n",
            "Epoch: 69, Training_Loss: 0.40955933928489685\n",
            "Epoch: 70, Training_Loss: 0.37488824129104614\n",
            "Epoch: 71, Training_Loss: 0.3646635115146637\n",
            "Epoch: 72, Training_Loss: 0.3841741681098938\n",
            "Epoch: 73, Training_Loss: 0.3699381351470947\n",
            "Epoch: 74, Training_Loss: 0.35413292050361633\n",
            "Epoch: 75, Training_Loss: 0.37384578585624695\n",
            "Epoch: 76, Training_Loss: 0.3949378728866577\n",
            "Epoch: 77, Training_Loss: 0.35497164726257324\n",
            "Epoch: 78, Training_Loss: 0.360848605632782\n",
            "Epoch: 79, Training_Loss: 0.43417301774024963\n",
            "Epoch: 80, Training_Loss: 0.3357362449169159\n",
            "Epoch: 81, Training_Loss: 0.3714786171913147\n",
            "Epoch: 82, Training_Loss: 0.35750827193260193\n",
            "Epoch: 83, Training_Loss: 0.4045843482017517\n",
            "Epoch: 84, Training_Loss: 0.33622950315475464\n",
            "Epoch: 85, Training_Loss: 0.4915922284126282\n",
            "Epoch: 86, Training_Loss: 0.37999334931373596\n",
            "Epoch: 87, Training_Loss: 0.33424755930900574\n",
            "Epoch: 88, Training_Loss: 0.3676733374595642\n",
            "Epoch: 89, Training_Loss: 0.33529800176620483\n",
            "Epoch: 90, Training_Loss: 0.3787640333175659\n",
            "Epoch: 91, Training_Loss: 0.3925360143184662\n",
            "Epoch: 92, Training_Loss: 0.35553300380706787\n",
            "Epoch: 93, Training_Loss: 0.373484343290329\n",
            "Epoch: 94, Training_Loss: 0.43473875522613525\n",
            "Epoch: 95, Training_Loss: 0.35383033752441406\n",
            "Epoch: 96, Training_Loss: 0.3737919330596924\n",
            "Epoch: 97, Training_Loss: 0.41531598567962646\n",
            "Epoch: 98, Training_Loss: 0.42171505093574524\n",
            "Epoch: 99, Training_Loss: 0.33778467774391174\n",
            "Epoch: 100, Training_Loss: 0.3738211393356323\n"
          ],
          "name": "stdout"
        }
      ]
    },
    {
      "cell_type": "code",
      "metadata": {
        "id": "3kXIGM6Xu5u_"
      },
      "source": [
        "img, _ = Train[9]"
      ],
      "execution_count": 39,
      "outputs": []
    },
    {
      "cell_type": "code",
      "metadata": {
        "colab": {
          "base_uri": "https://localhost:8080/"
        },
        "id": "6-uN27fEvA8O",
        "outputId": "655301a1-a322-4f5b-dcff-438a60b685b7"
      },
      "source": [
        "val_loader"
      ],
      "execution_count": 41,
      "outputs": [
        {
          "output_type": "execute_result",
          "data": {
            "text/plain": [
              "<torch.utils.data.dataloader.DataLoader at 0x7f73c2531898>"
            ]
          },
          "metadata": {
            "tags": []
          },
          "execution_count": 41
        }
      ]
    },
    {
      "cell_type": "code",
      "metadata": {
        "id": "nEYe75hsvCWf"
      },
      "source": [
        ""
      ],
      "execution_count": null,
      "outputs": []
    }
  ]
}